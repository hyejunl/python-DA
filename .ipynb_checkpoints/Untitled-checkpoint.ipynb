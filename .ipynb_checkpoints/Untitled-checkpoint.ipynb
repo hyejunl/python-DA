{
 "cells": [
  {
   "cell_type": "code",
   "execution_count": 23,
   "metadata": {},
   "outputs": [
    {
     "name": "stdout",
     "output_type": "stream",
     "text": [
      "['A8B9C7', 'A9B8C9', 'A7B8C9']\n"
     ]
    }
   ],
   "source": [
    "import numpy as np\n",
    "a='A7B5C4A1A8B9B3A5A8B9B1C7C1A1B3C7B9B3A7B8A1C9A8C9C7B9C3A5A8B3C9C8A7A8B9C9C7'\n",
    "num_only = np.array(list(a[1::2]),dtype=np.int32)\n",
    "str_only = np.array(list(a[0::2]))\n",
    "\n",
    "str_only2 = str_only[num_only>=7]\n",
    "num_only2 = num_only[num_only>=7]\n",
    "\n",
    "str_only2 = \"\".join(str_only2)\n",
    "num_only2 = \"\".join(num_only2.astype(np.str))\n",
    "# str_only2.find(\"ABC\")\n",
    "\n",
    "mylist=list()\n",
    "while len(str_only2) >2:\n",
    "    sidx = str_only2.find(\"ABC\")\n",
    "    mylist.append(num_only2[sidx:sidx+3])\n",
    "    str_only2 = str_only2[sidx+3:]\n",
    "# print(mylist)\n",
    "\n",
    "mylist2=list()\n",
    "for i in range(len(mylist)):\n",
    "    mylist2.append('A' + mylist[i][0] + 'B' + mylist[i][1] + 'C' + mylist[i][2])\n",
    "    \n",
    "print(mylist2)\n",
    "\n"
   ]
  }
 ],
 "metadata": {
  "kernelspec": {
   "display_name": "[CPU_ENV]",
   "language": "python",
   "name": "cpu_env"
  },
  "language_info": {
   "codemirror_mode": {
    "name": "ipython",
    "version": 3
   },
   "file_extension": ".py",
   "mimetype": "text/x-python",
   "name": "python",
   "nbconvert_exporter": "python",
   "pygments_lexer": "ipython3",
   "version": "3.6.9"
  }
 },
 "nbformat": 4,
 "nbformat_minor": 2
}
