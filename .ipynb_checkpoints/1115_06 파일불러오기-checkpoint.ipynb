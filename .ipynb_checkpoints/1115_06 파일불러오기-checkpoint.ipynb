{
 "cells": [
  {
   "cell_type": "code",
   "execution_count": 5,
   "metadata": {},
   "outputs": [
    {
     "name": "stdout",
     "output_type": "stream",
     "text": [
      "홍길동,18,7,19\n",
      "최길동,58,70,15\n",
      "아이유,92,94,99\n",
      "김연아,17,20,22\n",
      "이선희,76,25,14\n",
      "강감찬,90,19,71\n",
      "신사임당,31,23,16"
     ]
    }
   ],
   "source": [
    "## python의 기본 파일처리\n",
    "\n",
    "## 먼저 file handle을 획득해야 해요!~\n",
    "## 사용할 데이터파일을 오픈해요!!\n",
    "## 읽기용도, 쓰기용도\n",
    "\n",
    "# open(\"내가 사용할 파일이름\",\"읽을용도냐, 사용할 용도냐?\")   => python DA파일 안의 student score 파일을 예시로\n",
    "file1 = open(\"student_score.txt\",\"r\") #읽을용도 \"r\"로 파일 열기\n",
    "file2 = open(\"backup.txt\",\"w\") # 쓰기용도 \"w\"로 열기 (파일미리 안 만들어놔도 실행시키면 빈파일이 생김)\n",
    "\n",
    "# 학생 성적파일에서 한줄씩 읽어와서\n",
    "# output console에 출력하고 해당내용을 backup파일에 저장\n",
    "# 홍길동,18,7,19 (개행문자 \\n이 들어가 있어서 결과값이 한칸씩 띄어서 나오게 됨)\n",
    "# 최길동,58,70,15\n",
    "# 아이유,92,94,99\n",
    "\n",
    "while True: #일단 어디까지인지 모르겠으니 일단 돌아라. 중간에 break로 나오게 하겠다\n",
    "    line = file1.readline() #오픈한 file1의 한줄을 line 변수에 넣어라\n",
    "    print(line,end=\"\") # end = \"\"  한줄 띄지말고 아무것도 찍지마\n",
    "    if not line: #line이 비어있으면 false일 테니까 true를 만들어 주려면 not line으로 if문을 만들어 준다  \n",
    "        break    # 가장 가까운 반복문(for, while)1개를 탈출\n",
    "    file2.write(line) #file 2에다가 line을 가져다가 써야되\n",
    "    \n",
    "file1.close()\n",
    "file2.close()\n",
    "    \n",
    "# 파일을 open해놓고 닫지 않으면 작업이 실행되지 않음. 그래서 꼭 close해줘야 함\n"
   ]
  },
  {
   "cell_type": "code",
   "execution_count": null,
   "metadata": {},
   "outputs": [],
   "source": []
  }
 ],
 "metadata": {
  "kernelspec": {
   "display_name": "[CPU_ENV]",
   "language": "python",
   "name": "cpu_env"
  },
  "language_info": {
   "codemirror_mode": {
    "name": "ipython",
    "version": 3
   },
   "file_extension": ".py",
   "mimetype": "text/x-python",
   "name": "python",
   "nbconvert_exporter": "python",
   "pygments_lexer": "ipython3",
   "version": "3.6.9"
  }
 },
 "nbformat": 4,
 "nbformat_minor": 2
}
