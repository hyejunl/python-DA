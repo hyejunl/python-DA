{
 "cells": [
  {
   "cell_type": "code",
   "execution_count": 1,
   "metadata": {},
   "outputs": [
    {
     "name": "stdout",
     "output_type": "stream",
     "text": [
      "233168\n",
      "233168\n"
     ]
    }
   ],
   "source": [
    "### 문제 1.\n",
    "### 10보다 작은 자연수 중에서 3또는 5의 배수는 \n",
    "### 3,5,6,9가 존재해요! 이것들의 합은 23입니다.\n",
    "### 1000보다 작은 자연수 중에서 3또는 5의 배수들을 구해서 모두 합하면 얼마인가요?\n",
    "### 정답 :233168\n",
    "\n",
    "sum=0\n",
    "for i in range(1,1000):\n",
    "    if i%3==0 or i%5==0:\n",
    "        sum = sum +i\n",
    "print(sum)\n",
    "\n",
    "sum=0\n",
    "for i in range(1,1000):\n",
    "    if i%3==0 :\n",
    "        sum =sum+i\n",
    "    elif i%5==0:\n",
    "        sum =sum+i\n",
    "print(sum)\n"
   ]
  },
  {
   "cell_type": "code",
   "execution_count": 2,
   "metadata": {
    "scrolled": true
   },
   "outputs": [
    {
     "name": "stdout",
     "output_type": "stream",
     "text": [
      "4613732\n",
      "4613732\n",
      "4613732\n"
     ]
    }
   ],
   "source": [
    "### 문제 2. \n",
    "### 피보나치 수열의 각 항은 바로 앞의 항 2개를 더한것이 되요!\n",
    "### 1과 2로 시작하는 피보나치 수열은\n",
    "### 1, 2, 3, 5, 8, 13, 21, 34,...\n",
    "\n",
    "### 짝수이면서 4백만 이하인 모든 항을 더하면 얼마일까요?\n",
    "### 답: 4613732\n",
    "\n",
    "\n",
    "var1=1; var2=2 ;mysum=0\n",
    "while var1+var2 <= 4000000:\n",
    "    var3=var1+var2\n",
    "    if var3%2==0:\n",
    "        mysum=mysum+var3\n",
    "    var1=var2\n",
    "    var2=var3\n",
    "print(mysum+2)\n",
    "\n",
    "\n",
    "a = [1,2]; mysum=0\n",
    "while a[len(a)-1]<=4000000:\n",
    "    a.append(a[len(a)-2]+a[len(a)-1])\n",
    "    if a[len(a)-2]%2 ==0:\n",
    "        mysum=mysum+a[len(a)-2]\n",
    "print(mysum)\n",
    "############################################\n",
    "\n",
    "a = [1,2]; mysum=0\n",
    "while a[-1]<=4000000:    #끝값을 가져오려면 [-1]\n",
    "    a.append(a[-2]+a[-1])\n",
    "for i in a:\n",
    "    if i %2 ==0:\n",
    "        mysum=mysum+i\n",
    "print(mysum)\n",
    "\n",
    "\n",
    "\n"
   ]
  },
  {
   "cell_type": "code",
   "execution_count": 3,
   "metadata": {},
   "outputs": [
    {
     "name": "stdout",
     "output_type": "stream",
     "text": [
      "알파벳:i,사용횟수:7\n",
      "알파벳:i,사용횟수:7\n"
     ]
    }
   ],
   "source": [
    "### 문제 3.\n",
    "### 알파벳 대소문자로 되어 있는 문자열이 주어져요!\n",
    "### 이 문자열에서 가장 많이 사용된 알파벳이\n",
    "### 무엇인지 출력하는 프로그램을 작성하세요\n",
    "### 단, 대소문자 구별하지 않아요. 만약 동률이 존재하면\n",
    "### 알파벳 순서가 제일 앞에 있는 알파벳을 출력\n",
    "### 공백은 제외할게요!!\n",
    "\n",
    "## \"This is a sample Program mississippi river\"\n",
    "\n",
    "a= \"This is a sample Program mississippi river\"\n",
    "sample2= \"abcdabcdababccddcd\"\n",
    "a=a.lower()\n",
    "a=a.replace(\" \",\"\")\n",
    "x=list(set(a)) # set 중복없이 알파벳을 뽑아내는 것\n",
    "x.sort()    # 정렬\n",
    "#print(x)\n",
    "\n",
    "clist=[]\n",
    "for i in x:\n",
    "    clist.append(a.count(i))\n",
    "idnum = clist.index(max(clist))\n",
    "# print(idnum)\n",
    "print(\"알파벳:{},사용횟수:{}\".format(x[idnum],clist[idnum]))  \n",
    "\n",
    "\n",
    "#print(clist)\n",
    "#max(clist)\n",
    "#print(clist.index(max(clist)))\n",
    "\n",
    "#############################################################\n",
    "a=\"This is a sample Program mississippi river\"\n",
    "a=a.lower()\n",
    "a=a.replace(\" \",\"\")\n",
    "x=sorted(a)\n",
    "x=list(set(x)) #set을 하면 set형태로 나와서 list로 만들어줘야 한다\n",
    "\n",
    "li=[]\n",
    "for i in x:\n",
    "    li.append(a.count(i))\n",
    "print(\"알파벳:{},사용횟수:{}\".format(x[li.index(max(li))],max(li)))  \n",
    "\n",
    "\n"
   ]
  },
  {
   "cell_type": "code",
   "execution_count": 4,
   "metadata": {},
   "outputs": [
    {
     "name": "stdout",
     "output_type": "stream",
     "text": [
      "알파벳:I,사용횟수:7\n"
     ]
    }
   ],
   "source": [
    "########################ascii코드 이용해서 구하는 방법\n",
    "a=\"This is a sample Program mississippi river\"\n",
    "a=a.upper()\n",
    "a=a.replace(\" \",\"\")\n",
    "\n",
    "val=\"A\"\n",
    "for i in range(65,91):\n",
    "    if a.count(chr(i))>a.count(val):\n",
    "        val=chr(i)\n",
    "print(\"알파벳:{},사용횟수:{}\".format(val,a.count(val)))\n",
    "\n",
    "\n",
    " "
   ]
  },
  {
   "cell_type": "code",
   "execution_count": 82,
   "metadata": {},
   "outputs": [
    {
     "name": "stdout",
     "output_type": "stream",
     "text": [
      "[[24, 41, 38, 10, 12, 25], [45, 6, 11, 8, 37, 31], [21, 23, 29, 5, 33, 40], [32, 44, 6, 45, 7, 29], [3, 45, 8, 14, 25, 42]]\n",
      "[3, 36, 11, 41, 22, 6]\n",
      "1번째 꽝\n",
      "2번째 꽝\n",
      "3번째 꽝\n",
      "4번째 꽝\n",
      "5번째 꽝\n"
     ]
    }
   ],
   "source": [
    "### 문제 4:\n",
    "### 로또 프로그램을 작성\n",
    "### 5천원으로 로또복권 5장을 자동으로 구매 (중복없이 연속으로 6개 생성)\n",
    "### 이번주 로또 당첨번호를 생성하여 구매한 로또가 당첨이 되었는지를 확인\n",
    "## 쉬운버전부터 해 보아요! => 보너스 번호가 없어요!\n",
    "## 1등: 6개의 번호가 다 맞으면\n",
    "## 2등: 5개의 번호가 다 맞으면\n",
    "## 3등: 4개의 번호가 다 맞으면\n",
    "## 4등: 3개의 번호가 다 맞으면\n",
    "## 5장의 로또 번호가 몇등에 당첨되었는지 출력!\n",
    "## 랜덤번호 추출은 다음의 코드를 이용해요.\n",
    "# import random\n",
    "# a = random.randint(1,10) #1이상 10이하의 정수형 난수 생성 (randint는 앞뒤 둘다 포함 (1~10))\n",
    "# print(a)\n",
    "\n",
    "# import random\n",
    "# x =[random.randint(1,45)]\n",
    "# #for i in range(1,6):\n",
    "# while len(x)<=6:\n",
    "#     a=random.randint(1,45)\n",
    "#     if a != x[-1]:\n",
    "#         x.append(a)\n",
    "# print(x)\n",
    "\n",
    "\n",
    "# def lottery(times):\n",
    "#     for i in range(times):\n",
    "#         import random\n",
    "#         x =[random.randint(1,45)]\n",
    "#         while len(x)<6:\n",
    "#             a=random.randint(1,45)\n",
    "#             for i in x:\n",
    "#                 if a != i:\n",
    "#                     break\n",
    "#             x.append(a)              \n",
    "#         print(x)\n",
    "\n",
    "        \n",
    "# lottery(5)\n",
    "    \n",
    "\n",
    "    \n",
    "    \n",
    "# import random\n",
    "# x =[random.randint(1,45)]\n",
    "# while len(x)<6:\n",
    "#     a=random.randint(1,45)\n",
    "#     for i in x:\n",
    "#         if a == i:\n",
    "#             break\n",
    "#     x.append(a)\n",
    "# print(x)\n",
    "\n",
    "\n",
    "# def lottery(times):\n",
    "#     for i in range(times):\n",
    "#         import random\n",
    "#         num = range(46)\n",
    "#         random.sample(num,6)\n",
    "        \n",
    "# lottery(5)\n",
    "\n",
    "\n",
    "\n",
    "\n",
    "\n",
    "import random\n",
    "num = range(1,46)\n",
    "g_num = random.sample(num,6)\n",
    "xnum=[]\n",
    "for i in range(5):\n",
    "    xnum.append(random.sample(num,6))\n",
    "print(xnum)\n",
    "print(g_num)\n",
    "\n",
    "for i in range(5):\n",
    "    if len(set(xnum[i]) & set(g_num))==6:\n",
    "        print(\"{}번째 1등당첨\".format(i+1))\n",
    "    elif len(set(xnum[i]) & set(g_num))==5:\n",
    "        print(\"{}번째 2등당첨\".format(i+1))\n",
    "    elif len(set(xnum[i]) & set(g_num))==4:\n",
    "        print(\"{}번째 3등당첨\".format(i+1))\n",
    "    elif len(set(xnum[i]) & set(g_num))==3:\n",
    "        print(\"{}번째 4등당첨\".format(i+1))\n",
    "    else:\n",
    "        print(\"{}번째 꽝\".format(i+1))\n",
    "\n",
    "\n"
   ]
  },
  {
   "cell_type": "code",
   "execution_count": 154,
   "metadata": {},
   "outputs": [
    {
     "name": "stdout",
     "output_type": "stream",
     "text": [
      "[{2, 40, 11, 13, 14, 28}, {34, 5, 43, 13, 24, 29}, {32, 2, 3, 4, 38, 44}, {4, 39, 40, 42, 11, 30}, {33, 3, 36, 5, 40, 27}]\n",
      "1번째 꽝\n",
      "2번째 꽝\n",
      "3번째 꽝\n",
      "4번째 꽝\n",
      "5번째 꽝\n"
     ]
    }
   ],
   "source": [
    "import random\n",
    "# x ={random.randint(1,45)}\n",
    "# while len(x)<6:\n",
    "#     a=random.randint(1,45)\n",
    "#     x.add(a)\n",
    "# print(x)\n",
    "\n",
    "num=[]\n",
    "for i in range(5):\n",
    "    x = set()\n",
    "    while len(x)<6:\n",
    "        a=random.randint(1,45)\n",
    "        x.add(a)\n",
    "    num.append(x)\n",
    "print(num)\n",
    "\n",
    "for i in range(5):\n",
    "    if len(num[i] & set(g_num))==6:\n",
    "        print(\"{}번째 1등당첨\".format(i+1))\n",
    "    elif len(num[i] & set(g_num))==5:\n",
    "        print(\"{}번째 2등당첨\".format(i+1))\n",
    "    elif len(num[i] & set(g_num))==4:\n",
    "        print(\"{}번째 3등당첨\".format(i+1))\n",
    "    elif len(num[i] & set(g_num))==3:\n",
    "        print(\"{}번째 4등당첨\".format(i+1))\n",
    "    else:\n",
    "        print(\"{}번째 꽝\".format(i+1))\n"
   ]
  },
  {
   "cell_type": "code",
   "execution_count": 274,
   "metadata": {
    "scrolled": true
   },
   "outputs": [
    {
     "name": "stdout",
     "output_type": "stream",
     "text": [
      "당첨번호는:{3, 4, 5, 40, 44, 26},보너스번호:29\n",
      "1번째 {3, 4, 7, 40, 15, 30} 5등당첨\n",
      "2번째 {36, 5, 40, 43, 13, 20} 꽝\n",
      "3번째 {1, 36, 43, 14, 16, 27} 꽝\n",
      "4번째 {33, 13, 14, 17, 19, 28} 꽝\n",
      "5번째 {32, 2, 41, 12, 16, 19} 꽝\n"
     ]
    }
   ],
   "source": [
    "%%time # 해당 셀의 러닝타임을 믿에 찍어줌\n",
    "### 문제 4 +:\n",
    "### 로또 프로그램을 작성\n",
    "### 5천원으로 로또복권 5장을 자동으로 구매 (중복없이 연속으로 6개 생성)\n",
    "### 이번주 로또 당첨번호를 생성하여 구매한 로또가 당첨이 되었는지를 확인 (보너스버전 있음)\n",
    "## 1등: 6개의 번호가 다 맞으면\n",
    "## 2등: 5개의 번호가 다 맞으면 +보너스 번호가 맞으면\n",
    "## 3등: 5개의 번호가 다 맞으면\n",
    "## 4등: 4개의 번호가 다 맞으면\n",
    "## 5등: 3개의 번호가 맞으면\n",
    "## 5장의 로또 번호가 몇등에 당첨되었는지 출력!\n",
    "## 랜덤번호 추출은 다음의 코드를 이용해요.\n",
    "import random\n",
    "g_num = set()\n",
    "while len(g_num)<7:\n",
    "    a=random.randint(1,45)\n",
    "    g_num.add(a)\n",
    "y=list(g_num)\n",
    "bonus=y.pop()\n",
    "gg_num=set(y)\n",
    "# print(y)\n",
    "# print(bonus)\n",
    "print(\"당첨번호는:{},보너스번호:{}\".format(gg_num,bonus))\n",
    "\n",
    "\n",
    "\n",
    "num=[]\n",
    "for i in range(5):\n",
    "    x = set()\n",
    "    while len(x)<6:\n",
    "        a=random.randint(1,45)\n",
    "        x.add(a)\n",
    "    num.append(x)\n",
    "\n",
    "for i in range(5):\n",
    "    if len(num[i] & gg_num)==6:\n",
    "        print(\"{}번째 {} 1등당첨\".format(i+1,num[i]))\n",
    "    elif len(num[i] & gg_num)==5 and gg_num.differnece(num[i])==bonus:\n",
    "        print(\"{}번째 {} 2등당첨\".format(i+1,num[i]))\n",
    "    elif len(num[i] & gg_num)==5:\n",
    "        print(\"{}번째 {} 3등당첨\".format(i+1,num[i]))\n",
    "    elif len(num[i] & gg_num)==4:\n",
    "        print(\"{}번째 {} 4등당첨\".format(i+1,num[i]))\n",
    "    elif len(num[i] & gg_num)==3:\n",
    "        print(\"{}번째 {} 5등당첨\".format(i+1,num[i]))\n",
    "    else:\n",
    "        print(\"{}번째 {} 꽝\".format(i+1,num[i]))\n",
    "        \n",
    "        \n",
    "\n",
    "        "
   ]
  },
  {
   "cell_type": "code",
   "execution_count": 316,
   "metadata": {},
   "outputs": [
    {
     "name": "stdout",
     "output_type": "stream",
     "text": [
      "[6216716]\n"
     ]
    }
   ],
   "source": [
    "%%time # 해당 셀의 러닝타임을 믿에 찍어줌\n",
    "## (추가문제) 1등에 당첨될려면 평균적으로 얼마만큼의 돈을 투자해야 할까요?? 로또 1게임은 1000원\n",
    "#당첨번호\n",
    "import random\n",
    "g_num = set()\n",
    "while len(g_num)<7:\n",
    "    a=random.randint(1,45)\n",
    "    g_num.add(a)\n",
    "y=list(g_num)\n",
    "bonus=y.pop()\n",
    "gg_num=set(y)\n",
    "    \n",
    "\n",
    "# 1등 당첨 1번되려면 몇번?\n",
    "first=list()\n",
    "t=1\n",
    "while len(first)<1:    \n",
    "    x = set()\n",
    "    while len(x)<6:\n",
    "        a=random.randint(1,45)\n",
    "        x.add(a)\n",
    "\n",
    "    \n",
    "    if len(x & gg_num)==6:\n",
    "        first.append(t)\n",
    "    else :\n",
    "        t+=1\n",
    "print(first)\n",
    "\n",
    "\n"
   ]
  },
  {
   "cell_type": "code",
   "execution_count": null,
   "metadata": {},
   "outputs": [],
   "source": [
    "%%time\n",
    "final=list()\n",
    "for i in range(100):\n",
    "    import random\n",
    "    g_num = set()\n",
    "    while len(g_num)<7:\n",
    "        a=random.randint(1,45)\n",
    "        g_num.add(a)\n",
    "    y=list(g_num)\n",
    "    bonus=y.pop()\n",
    "    gg_num=set(y)\n",
    "\n",
    "\n",
    "    # 1등 당첨 1번되려면 몇번?\n",
    "    first=list()\n",
    "    t=1\n",
    "    while len(first)<1:    \n",
    "        x = set()\n",
    "        while len(x)<6:\n",
    "            a=random.randint(1,45)\n",
    "            x.add(a)\n",
    "\n",
    "\n",
    "        if len(x & gg_num)==6:\n",
    "            first.append(t)\n",
    "        else :\n",
    "            t+=1\n",
    "    final.extend(first)\n",
    "print(sum(final)/10)\n",
    "\n",
    "# break는 인접한 가장 가까운 loop(while문)를 탈출\n",
    "# print(\"비용:{:,}\".format(nCount*1000))  #{:,}는 1000단위로 ,를 찍어줌"
   ]
  },
  {
   "cell_type": "code",
   "execution_count": 319,
   "metadata": {},
   "outputs": [
    {
     "data": {
      "text/plain": [
       "775146.0992245268"
      ]
     },
     "execution_count": 319,
     "metadata": {},
     "output_type": "execute_result"
    }
   ],
   "source": [
    "## 문제 5번\n",
    "## 어떤 수를 소수의 곱으로만 나타내는 것을 소인수분해라고 합니다.\n",
    "## 이 소수들을 그 수의 소인수라고 합니다.\n",
    "\n",
    "## 예를 들면 13195의 소인수는 5, 7, 13, 29 입니다.\n",
    "\n",
    "## 600851475143의 소인수 중 가장 큰 수는 얼마인가요?\n",
    "\n",
    "dn=600851475143\n",
    "dn2=dn**0.5\n",
    "dn2\n",
    "\n"
   ]
  }
 ],
 "metadata": {
  "kernelspec": {
   "display_name": "[CPU_ENV]",
   "language": "python",
   "name": "cpu_env"
  },
  "language_info": {
   "codemirror_mode": {
    "name": "ipython",
    "version": 3
   },
   "file_extension": ".py",
   "mimetype": "text/x-python",
   "name": "python",
   "nbconvert_exporter": "python",
   "pygments_lexer": "ipython3",
   "version": "3.6.9"
  }
 },
 "nbformat": 4,
 "nbformat_minor": 2
}
