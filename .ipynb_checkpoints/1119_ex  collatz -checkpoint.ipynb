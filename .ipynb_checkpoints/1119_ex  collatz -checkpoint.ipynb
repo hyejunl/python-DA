{
 "cells": [
  {
   "cell_type": "code",
   "execution_count": null,
   "metadata": {},
   "outputs": [],
   "source": [
    "## 문제 12.\n",
    "## 양의 정수 n에 대해서, 다음과 같은 계산 과정을 반복합니다\n",
    "\n",
    "## n이 짝수일 경우 => n -> n/2\n",
    "## n이 홀수일 경우 => n -> 3 * n + 1\n",
    "\n",
    "## 13이라는 정수 n에 대해서 위의 규칙을 적용해보면\n",
    "## 13 -> 40 -> 20 -> 10 -> 5 -> 16 -> 8 -> 4 -> 2 -> 1\n",
    "## 어떤 수로 시작해도 결국은 1로 끝나게 되요!!\n",
    "\n",
    "## 1,000,000(백만) 이하의 수로 시작했을 때 1까지 도달하는데 \n",
    "## 가장 긴 과정을 거치는 수는 얼마인가요?\n",
    "\n",
    "# import numpy as np\n",
    "\n",
    "# arr = np.arange(1,11,1)\n",
    "# while len(arr[arr!=1]):\n",
    "#     arr[arr%2==0]= arr[arr%2==0]/2\n",
    "#     arr[arr%2==1]= arr[arr%2==1]*3+1\n",
    "# print(arr)\n"
   ]
  },
  {
   "cell_type": "code",
   "execution_count": 6,
   "metadata": {},
   "outputs": [
    {
     "name": "stdout",
     "output_type": "stream",
     "text": [
      "837799 524\n",
      "Wall time: 37.6 s\n"
     ]
    }
   ],
   "source": [
    "%%time\n",
    "def answert(n):\n",
    "    count=0\n",
    "    while n>1:\n",
    "        if n % 2 ==0:\n",
    "            n=n/2\n",
    "        else:\n",
    "            n=n*3+1\n",
    "        count+=1\n",
    "    return count\n",
    "\n",
    "maxc=0\n",
    "num=0\n",
    "for i in range(1,1000001):\n",
    "    c = answert(i)\n",
    "    if c > maxc:\n",
    "        num = i\n",
    "        maxc = c\n",
    "    \n",
    "print(num,maxc)\n",
    "\n",
    "    "
   ]
  },
  {
   "cell_type": "code",
   "execution_count": 1,
   "metadata": {},
   "outputs": [
    {
     "name": "stdout",
     "output_type": "stream",
     "text": [
      "837799 524\n",
      "Wall time: 2.75 s\n"
     ]
    }
   ],
   "source": [
    "%%time\n",
    "def answert(n):\n",
    "    count=0\n",
    "    while n>1:\n",
    "        if n in dictc:\n",
    "            count+=dictc[n]-1\n",
    "            n = 1\n",
    "        elif n % 2 ==0:\n",
    "            n=n/2\n",
    "        else:\n",
    "            n=n*3+1\n",
    "        count+=1\n",
    "    return count\n",
    "\n",
    "dictc={}\n",
    "maxc=0\n",
    "num=0\n",
    "for i in range(1,1000001):\n",
    "    c = answert(i)\n",
    "    dictc[i]=c\n",
    "    if c > maxc:\n",
    "        num = i\n",
    "        maxc = c\n",
    "    \n",
    "print(num,maxc)"
   ]
  },
  {
   "cell_type": "code",
   "execution_count": 9,
   "metadata": {},
   "outputs": [
    {
     "name": "stdout",
     "output_type": "stream",
     "text": [
      "837799 524\n",
      "Wall time: 2.96 s\n"
     ]
    }
   ],
   "source": [
    "%%time\n",
    "def answerth(n):\n",
    "    if n ==1:\n",
    "        return 0\n",
    "    elif n in dictc:\n",
    "        return dictc[n]\n",
    "    elif n % 2 ==0:\n",
    "        return answerth(n/2) +1\n",
    "    else:\n",
    "        return answerth(n*3+1) +1\n",
    "\n",
    "dictc={}\n",
    "maxc=0\n",
    "num=0\n",
    "for i in range(1,1000001):\n",
    "    c = answerth(i)\n",
    "    dictc[i]=c\n",
    "    if c > maxc:\n",
    "        num = i\n",
    "        maxc = c\n",
    "\n",
    "    \n",
    "print(num,maxc)"
   ]
  },
  {
   "cell_type": "code",
   "execution_count": 111,
   "metadata": {},
   "outputs": [
    {
     "data": {
      "text/plain": [
       "1980"
      ]
     },
     "execution_count": 111,
     "metadata": {},
     "output_type": "execute_result"
    }
   ],
   "source": [
    "## 문제 13.\n",
    "## 다음과 같은 특성을 가지는 숫자의 개수를 구하는 프로그램을 작성해보아요!\n",
    "## 두개의 숫자(x,y)를 이용합니다. 양의 정수 1과 100\n",
    "## x초과 그리고 y미만인 숫자 중 각 자리의 숫자를 \n",
    "## 모두 더한 값이 5의 배수가 되는 숫자를 구하고 해당 숫자가 몇개인지 출력하세요!\n",
    "## 1초과 100 미만 => 19개 \n",
    "## 5초과 500 미만 => 98개\n",
    "## 입력으로 100 초과 10000미만 이 주어졌을 때 몇개 인가요? => 1980개\n",
    "\n",
    "# 문자열로 변환해서 풀기\n",
    "# n=134\n",
    "# a=0\n",
    "# while 10**a <= n:\n",
    "#     a+=1\n",
    "# print(a)\n",
    "\n",
    "\n",
    "def myFunc(x,y):\n",
    "    count=0\n",
    "    for i in range(x+1,y):\n",
    "        n=str(i)\n",
    "        sum=0 \n",
    "        for k in range(len(n)):\n",
    "            sum+=int(n[k])\n",
    "        if sum %5==0:\n",
    "            count +=1\n",
    "    return count\n",
    "            \n",
    "            \n",
    "myFunc(100,10000)\n",
    "\n",
    "\n",
    "    \n",
    "\n",
    "    \n",
    "\n",
    "\n",
    "\n"
   ]
  },
  {
   "cell_type": "code",
   "execution_count": 112,
   "metadata": {},
   "outputs": [
    {
     "name": "stdout",
     "output_type": "stream",
     "text": [
      "1980\n"
     ]
    }
   ],
   "source": [
    "def exercise13(x,y):\n",
    "    ncount=0\n",
    "    \n",
    "    for i in range(x+1,y):\n",
    "        # i값에는 숫자가 한개씩 들어와요!\n",
    "        k = str(i) #문자열은 한자리씩 index로 얻어낼 수 있다.\n",
    "        intSum=0\n",
    "        for j in range(len(k)):\n",
    "            intSum += int(k[j])\n",
    "        if intSum%5==0:\n",
    "            ncount+=1\n",
    "    return ncount\n",
    "            \n",
    "            \n",
    "        \n",
    "        \n",
    "print(exercise13(100,10000))"
   ]
  },
  {
   "cell_type": "code",
   "execution_count": 151,
   "metadata": {},
   "outputs": [
    {
     "ename": "KeyboardInterrupt",
     "evalue": "",
     "output_type": "error",
     "traceback": [
      "\u001b[1;31m---------------------------------------------------------------------------\u001b[0m",
      "\u001b[1;31mKeyboardInterrupt\u001b[0m                         Traceback (most recent call last)",
      "\u001b[1;32m<ipython-input-151-d4f1f22caed5>\u001b[0m in \u001b[0;36m<module>\u001b[1;34m\u001b[0m\n\u001b[0;32m     46\u001b[0m \u001b[1;33m\u001b[0m\u001b[0m\n\u001b[0;32m     47\u001b[0m \u001b[1;33m\u001b[0m\u001b[0m\n\u001b[1;32m---> 48\u001b[1;33m \u001b[0mprint\u001b[0m\u001b[1;33m(\u001b[0m\u001b[0mexercise14\u001b[0m\u001b[1;33m(\u001b[0m\u001b[1;36m65223435\u001b[0m\u001b[1;33m)\u001b[0m\u001b[1;33m)\u001b[0m\u001b[1;33m\u001b[0m\u001b[1;33m\u001b[0m\u001b[0m\n\u001b[0m\u001b[0;32m     49\u001b[0m \u001b[1;33m\u001b[0m\u001b[0m\n\u001b[0;32m     50\u001b[0m \u001b[1;31m# n=str(523252)\u001b[0m\u001b[1;33m\u001b[0m\u001b[1;33m\u001b[0m\u001b[1;33m\u001b[0m\u001b[0m\n",
      "\u001b[1;32m<ipython-input-151-d4f1f22caed5>\u001b[0m in \u001b[0;36mexercise14\u001b[1;34m(x)\u001b[0m\n\u001b[0;32m     26\u001b[0m \u001b[1;33m\u001b[0m\u001b[0m\n\u001b[0;32m     27\u001b[0m             \u001b[1;32mif\u001b[0m \u001b[0mi\u001b[0m\u001b[1;33m>\u001b[0m\u001b[0mj\u001b[0m\u001b[1;33m:\u001b[0m\u001b[1;33m\u001b[0m\u001b[1;33m\u001b[0m\u001b[0m\n\u001b[1;32m---> 28\u001b[1;33m                 \u001b[0mexercise14\u001b[0m\u001b[1;33m(\u001b[0m\u001b[0mi\u001b[0m\u001b[1;33m)\u001b[0m\u001b[1;33m\u001b[0m\u001b[1;33m\u001b[0m\u001b[0m\n\u001b[0m\u001b[0;32m     29\u001b[0m             \u001b[1;32melse\u001b[0m\u001b[1;33m:\u001b[0m\u001b[1;33m\u001b[0m\u001b[1;33m\u001b[0m\u001b[0m\n\u001b[0;32m     30\u001b[0m                 \u001b[0mexercise14\u001b[0m\u001b[1;33m(\u001b[0m\u001b[0mj\u001b[0m\u001b[1;33m)\u001b[0m\u001b[1;33m\u001b[0m\u001b[1;33m\u001b[0m\u001b[0m\n",
      "\u001b[1;32m<ipython-input-151-d4f1f22caed5>\u001b[0m in \u001b[0;36mexercise14\u001b[1;34m(x)\u001b[0m\n\u001b[0;32m     26\u001b[0m \u001b[1;33m\u001b[0m\u001b[0m\n\u001b[0;32m     27\u001b[0m             \u001b[1;32mif\u001b[0m \u001b[0mi\u001b[0m\u001b[1;33m>\u001b[0m\u001b[0mj\u001b[0m\u001b[1;33m:\u001b[0m\u001b[1;33m\u001b[0m\u001b[1;33m\u001b[0m\u001b[0m\n\u001b[1;32m---> 28\u001b[1;33m                 \u001b[0mexercise14\u001b[0m\u001b[1;33m(\u001b[0m\u001b[0mi\u001b[0m\u001b[1;33m)\u001b[0m\u001b[1;33m\u001b[0m\u001b[1;33m\u001b[0m\u001b[0m\n\u001b[0m\u001b[0;32m     29\u001b[0m             \u001b[1;32melse\u001b[0m\u001b[1;33m:\u001b[0m\u001b[1;33m\u001b[0m\u001b[1;33m\u001b[0m\u001b[0m\n\u001b[0;32m     30\u001b[0m                 \u001b[0mexercise14\u001b[0m\u001b[1;33m(\u001b[0m\u001b[0mj\u001b[0m\u001b[1;33m)\u001b[0m\u001b[1;33m\u001b[0m\u001b[1;33m\u001b[0m\u001b[0m\n",
      "\u001b[1;32m<ipython-input-151-d4f1f22caed5>\u001b[0m in \u001b[0;36mexercise14\u001b[1;34m(x)\u001b[0m\n\u001b[0;32m     23\u001b[0m \u001b[1;33m\u001b[0m\u001b[0m\n\u001b[0;32m     24\u001b[0m             \u001b[0mi\u001b[0m\u001b[1;33m=\u001b[0m\u001b[0mint\u001b[0m\u001b[1;33m(\u001b[0m\u001b[0mn\u001b[0m\u001b[1;33m[\u001b[0m\u001b[1;33m:\u001b[0m\u001b[0ma\u001b[0m\u001b[1;33m]\u001b[0m\u001b[1;33m)\u001b[0m\u001b[1;33m\u001b[0m\u001b[1;33m\u001b[0m\u001b[0m\n\u001b[1;32m---> 25\u001b[1;33m             \u001b[0mj\u001b[0m\u001b[1;33m=\u001b[0m\u001b[0mint\u001b[0m\u001b[1;33m(\u001b[0m\u001b[0mn\u001b[0m\u001b[1;33m[\u001b[0m\u001b[0ma\u001b[0m\u001b[1;33m:\u001b[0m\u001b[1;33m]\u001b[0m\u001b[1;33m)\u001b[0m\u001b[1;33m\u001b[0m\u001b[1;33m\u001b[0m\u001b[0m\n\u001b[0m\u001b[0;32m     26\u001b[0m \u001b[1;33m\u001b[0m\u001b[0m\n\u001b[0;32m     27\u001b[0m             \u001b[1;32mif\u001b[0m \u001b[0mi\u001b[0m\u001b[1;33m>\u001b[0m\u001b[0mj\u001b[0m\u001b[1;33m:\u001b[0m\u001b[1;33m\u001b[0m\u001b[1;33m\u001b[0m\u001b[0m\n",
      "\u001b[1;31mKeyboardInterrupt\u001b[0m: "
     ]
    }
   ],
   "source": [
    "## 문제 14.\n",
    "## 6자리 이상 9자리 미만의 수를 하나 이용해요\n",
    "## 예) 234567 6522345\n",
    "\n",
    "## 수의 중앙을 기준으로 두 개의 수로 분리\n",
    "## 234567 => (234,567)\n",
    "## 6522345 => (652,345)\n",
    "## 두 개의 수로 분리한 다음 큰 수를 선택\n",
    "## 이 작업을 계속 진행 더 이상 나눌 수 없을 때까지 진행\n",
    "\n",
    "## 예) 65223435 => (652,345) => 652 => (6,2) => 6\n",
    "## 최종적으로 남은 수는 얼마?\n",
    "# x='123'\n",
    "# x[0:2]\n",
    "\n",
    "def exercise14(x):\n",
    "    while True:\n",
    "        n=str(x)\n",
    "        if len(n)==1:\n",
    "            break;\n",
    "        elif len(n)%2==0:\n",
    "            a=len(n)//2\n",
    "    \n",
    "            i=int(n[:a])\n",
    "            j=int(n[a:])\n",
    "    \n",
    "            if i>j:\n",
    "                exercise14(i)\n",
    "            else:\n",
    "                exercise14(j)\n",
    "        else:\n",
    "            a=len(n)//2\n",
    "    \n",
    "            i=int(n[:a])\n",
    "            j=int(n[a+1:])\n",
    "    \n",
    "            if i>j:\n",
    "                exercise14(i)\n",
    "            else:\n",
    "                exercise14(j)\n",
    "            \n",
    "            \n",
    "    return n\n",
    "    \n",
    "    \n",
    "    \n",
    "    \n",
    "print(exercise14(65223435))\n",
    "\n",
    "# n=str(523252)\n",
    "# a=len(n)//2\n",
    "# print(n[:a])\n",
    "# print(n[a+1:])\n",
    "\n",
    "##얘는 망했어!!!!!"
   ]
  },
  {
   "cell_type": "code",
   "execution_count": 172,
   "metadata": {},
   "outputs": [
    {
     "name": "stdout",
     "output_type": "stream",
     "text": [
      "6\n"
     ]
    }
   ],
   "source": [
    "def even(x):\n",
    "    n=str(x)\n",
    "    a=int(len(n)/2)\n",
    "    i=int(n[:a])\n",
    "    j=int(n[a:])\n",
    "    return max(i,j)\n",
    "\n",
    "    \n",
    "# even(1234)\n",
    "    \n",
    "\n",
    "def odd(x):\n",
    "    n=str(x)\n",
    "    a=int(len(n)/2)\n",
    "    i=int(n[:a])\n",
    "    j=int(n[a+1:])\n",
    "    return max(i,j) \n",
    "# odd(12345)\n",
    "    \n",
    "def exercise14(x):\n",
    "    while len(str(x))>1:\n",
    "        if len(str(x))%2==0:\n",
    "            x=even(x)\n",
    "        else:\n",
    "            x=odd(x)\n",
    "    return x\n",
    "\n",
    "print(exercise14(65223435))"
   ]
  },
  {
   "cell_type": "code",
   "execution_count": 171,
   "metadata": {},
   "outputs": [
    {
     "name": "stdout",
     "output_type": "stream",
     "text": [
      "1366\n",
      "Wall time: 0 ns\n"
     ]
    }
   ],
   "source": [
    "## 문제 15.\n",
    "## 2 ** 15 = 32768 각 자리수의 합은 => 3 + 2 + 7 + 6 + 8 => 26\n",
    "\n",
    "## 2 ** 1000 = ? 각 자리수의 합은? #45451\n",
    "\n",
    "\n",
    "n = str(2**1000)\n",
    "sum=0\n",
    "for i in range(len(n)):\n",
    "    sum+=int(n[i])\n",
    "print(sum)"
   ]
  },
  {
   "cell_type": "code",
   "execution_count": 169,
   "metadata": {},
   "outputs": [
    {
     "name": "stdout",
     "output_type": "stream",
     "text": [
      "1366\n",
      "Wall time: 0 ns\n"
     ]
    }
   ],
   "source": [
    "## 선생님의 풀이\n",
    "import numpy as np\n",
    "\n",
    "data = str(2**1000)\n",
    "result = np.array([int(data[x]) for x in range(len(data))])\n",
    "print(result.sum())"
   ]
  },
  {
   "cell_type": "code",
   "execution_count": 85,
   "metadata": {
    "scrolled": true
   },
   "outputs": [
    {
     "name": "stdout",
     "output_type": "stream",
     "text": [
      "['A7', 'A8', 'B9', 'A8', 'B9', 'C7', 'C7', 'B9', 'A7', 'B8', 'C9', 'A8', 'C9', 'C7', 'B9', 'A8', 'C9', 'C8', 'A7', 'A8', 'B9', 'C9', 'C7']\n",
      "A7A8B9A8B9C7C7B9A7B8C9A8C9C7B9A8C9C8A7A8B9C9C7\n",
      "['A8B9C7', 'A7B8C9', 'A8B9C9']\n"
     ]
    },
    {
     "data": {
      "text/plain": [
       "3"
      ]
     },
     "execution_count": 85,
     "metadata": {},
     "output_type": "execute_result"
    }
   ],
   "source": [
    "## 문제 16.(공장에서 부품을 생산해요!)\n",
    "## 각 부품의 생산정보가 문자열로 제공되요!\n",
    "## 예) 부품생산정보 : A7B5C4A1A8B9B3A5A8B9B1C7C1A1B3C7B9B3A7B8A1C9A8C9C7B9C3A5A8B3C9C8A7A8B9C9C7\n",
    "## 문자는 부품 이름(A,B,C 중 1개)\n",
    "## 숫자는 부품의 품질(1부터 9까지) 숫자가 높을수록 품질이 우수\n",
    "\n",
    "## 생산정보에서 품질이 7이상이 부품만 추출 (7미만은 불량품)\n",
    "## 결과) A7A9B9C7A8B8C9\n",
    "\n",
    "## 만들어진 결과를 이용해서 부품을 조립\n",
    "## ABC가 연속적으로 있으면 제품 1개를 조립\n",
    "## 주어진 문자열을 이용해서 총 몇개의 제품을 조립할 수 있나요?\n",
    "## X개!\n",
    "## 패턴매칭문제 (정규식이용)\n",
    "import re      # 정규식을 이용하기 위한 모듈을 포함\n",
    "\n",
    "itemSequence = \"A7B5C4A1A8B9B3A5A8B9B1C7C1A1B3C7B9B3A7B8A1C9A8C9C7B9C3A5A8B3C9C8A7A8B9C9C7\"\n",
    "\n",
    "#정규식을 하나 만들어요!\n",
    "regex = re.compile(\".[789]\") #앞의 글자는 상관없고 뒤에는 7,8,9중에 하나가 나와요\n",
    "result = regex.findall(itemSequence) # 뒤의 문자열에서 regex에 해당하는거 찾아 => list로 return\n",
    "print(result)\n",
    "\n",
    "valid_str = \"\".join(result)\n",
    "print(valid_str)\n",
    "regex2 = re.compile(\"A.B.C.\")\n",
    "result2 = regex2.findall(valid_str)\n",
    "print(result2)\n",
    "\n",
    "len(result2)\n",
    "\n",
    "\n",
    "# a='A7B5C4A1A8B9B3A5A8B9B1C7C1A1B3C7B9B3A7B8A1C9A8C9C7B9C3A5A8B3C9C8A7A8B9C9C7'\n",
    "# num = a[1::2]\n",
    "# str_a = a[0::2]\n",
    "\n",
    "# # print(num)\n",
    "# # int(num[0])\n",
    "\n",
    "\n",
    "# import numpy as np\n",
    "# mylist=list()\n",
    "# for i in range(len(num)):\n",
    "#     if int(num[i])>=7:\n",
    "#         mylist.append(True)\n",
    "#     else:\n",
    "#         mylist.append(False)\n",
    "\n",
    "\n",
    "# # print(mylist)\n",
    "\n",
    "# mylist2=list()\n",
    "# for i in range(len(str_a)):\n",
    "#     mylist2.append(str_a[i])\n",
    "\n",
    "\n",
    "# # print(mylist2)\n",
    "\n",
    "# myarr1=np.array(mylist)\n",
    "# myarr2=np.array(mylist2)\n",
    "\n",
    "# final_arr= myarr2[myarr1]\n",
    "# # print(final_arr)\n",
    "\n",
    "# final_str=\"\".join(final_arr)\n",
    "# print(final_str)\n",
    "\n",
    "# count=0\n",
    "# for i in range(len(final_str)-2):\n",
    "#     if final_str[i:i+3]=='ABC':\n",
    "#         count+=1\n",
    "# print(count)\n",
    "        "
   ]
  },
  {
   "cell_type": "code",
   "execution_count": 62,
   "metadata": {},
   "outputs": [
    {
     "name": "stdout",
     "output_type": "stream",
     "text": [
      "3\n"
     ]
    }
   ],
   "source": [
    "def excercise16(x):\n",
    "    a=x\n",
    "    num = a[1::2]\n",
    "    str_a = a[0::2]\n",
    "    \n",
    "    mylist=list()\n",
    "    for i in range(len(num)):\n",
    "        if int(num[i])>=7:\n",
    "            mylist.append(True)\n",
    "        else:\n",
    "            mylist.append(False)\n",
    "\n",
    "    mylist2=list()\n",
    "    for i in range(len(str_a)):\n",
    "        mylist2.append(str_a[i])\n",
    "        \n",
    "    myarr1=np.array(mylist)\n",
    "    myarr2=np.array(mylist2)\n",
    "    \n",
    "    final_arr= myarr2[myarr1]\n",
    "    \n",
    "    final_str=\"\".join(final_arr)\n",
    "    \n",
    "    count=0\n",
    "    for i in range(len(final_str)-2):\n",
    "        if final_str[i:i+3]=='ABC':\n",
    "            count+=1\n",
    "    \n",
    "    return count\n",
    "    \n",
    "\n",
    "print(excercise16('A7B5C4A1A8B9B3A5A8B9B1C7C1A1B3C7B9B3A7B8A1C9A8C9C7B9C3A5A8B3C9C8A7A8B9C9C7'))   \n",
    "    \n"
   ]
  },
  {
   "cell_type": "code",
   "execution_count": 78,
   "metadata": {
    "scrolled": false
   },
   "outputs": [
    {
     "name": "stdout",
     "output_type": "stream",
     "text": [
      "3\n"
     ]
    },
    {
     "data": {
      "text/plain": [
       "'1:2:3:4:5'"
      ]
     },
     "execution_count": 78,
     "metadata": {},
     "output_type": "execute_result"
    }
   ],
   "source": [
    "a='A7B5C4A1A8B9B3A5A8B9B1C7C1A1B3C7B9B3A7B8A1C9A8C9C7B9C3A5A8B3C9C8A7A8B9C9C7'\n",
    "num = a[1::2]\n",
    "str_a = a[0::2]\n",
    "\n",
    "mylist3=list()\n",
    "for i in range(len(num)):\n",
    "    if int(num[i])>=7:\n",
    "        mylist3.append(str_a[i])\n",
    "\n",
    "final_str1 = \"\".join(mylist3)\n",
    "count=0\n",
    "for i in range(len(final_str1)-2):\n",
    "    if final_str1[i:i+3]=='ABC':\n",
    "        count+=1\n",
    "\n",
    "print(count)\n",
    "\n"
   ]
  },
  {
   "cell_type": "code",
   "execution_count": 101,
   "metadata": {},
   "outputs": [
    {
     "name": "stdout",
     "output_type": "stream",
     "text": [
      "3\n"
     ]
    }
   ],
   "source": [
    "a='A7B5C4A1A8B9B3A5A8B9B1C7C1A1B3C7B9B3A7B8A1C9A8C9C7B9C3A5A8B3C9C8A7A8B9C9C7'\n",
    "num = np.array(list(a[1::2]),dtype=np.int32)\n",
    "str_1 = np.array(list(a[0::2]))\n",
    "final = str_1[num>=7]\n",
    "# print(final)\n",
    "\n",
    "\n",
    "final_str1 = \"\".join(final)\n",
    "print(final_str1.count('ABC'))\n",
    "\n",
    "#문자열 count \n",
    "#문자열.count(\"찾는 문자열\") #찾는 문자열의 갯수\n",
    "#문자열.find(\"찾는 문자열\") #찾는 문자열의 첫번째 index 번호가 나옴\n",
    "\n",
    "\n",
    "# count=0\n",
    "# for i in range(len(final_str1)-2):\n",
    "#     if final_str1[i:i+3]=='ABC':\n",
    "#         count+=1\n",
    "# print(count)\n"
   ]
  }
 ],
 "metadata": {
  "kernelspec": {
   "display_name": "[CPU_ENV]",
   "language": "python",
   "name": "cpu_env"
  },
  "language_info": {
   "codemirror_mode": {
    "name": "ipython",
    "version": 3
   },
   "file_extension": ".py",
   "mimetype": "text/x-python",
   "name": "python",
   "nbconvert_exporter": "python",
   "pygments_lexer": "ipython3",
   "version": "3.6.9"
  }
 },
 "nbformat": 4,
 "nbformat_minor": 2
}
