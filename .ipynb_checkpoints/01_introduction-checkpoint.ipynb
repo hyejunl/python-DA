{
 "cells": [
  {
   "cell_type": "code",
   "execution_count": null,
   "metadata": {
    "collapsed": true
   },
   "outputs": [],
   "source": [
    "# 한줄 주석이에요.. R의 주석과 같아요!\n",
    "# 여러줄 주석은 \"\"\" \"\"\" 혹은 ''' ''' 로 표현되요!\n",
    "\n",
    "\"\"\"\n",
    "이 안에 있는 건 다 주석이에요!\n",
    "주석주석주석주석!!\n",
    "주석~!!\n",
    "\"\"\"  \n",
    "'''\n",
    "이것도 다 주석처리 되지로오오오오옹\n",
    "'''\n",
    "'''\n",
    "python의 장점\n",
    "- 상대적으로 쉬운 언어\n",
    "- 강력한 데이터 분석 library (현재 가장 인기가 좋아요!)\n",
    "- Open Source\n",
    "- R에 비해서 범용적인 사용이 가능 \n",
    "- 데이터 분석 결과를 다른 시스템과 연동시킬 때 좋아요!\n",
    "- 하위 호환성은 없어요(2.x버전과 3.x버전이 달라요!)\n",
    "- PyCharm 혹은 jupyter notebook으로 작업해요!\n",
    "'''\n",
    "\n",
    "'''\n",
    "코드는 cell 단위로 실행이 됨\n",
    "파란색으로 칸을 바꾸고 \"b\"하면 아래에 cell이 만들어짐\n",
    "                       \"a\"하면 위에 cell이 만들어짐\n",
    "지우고 싶으면 해당 cell을 파랗게 만들고 \"dd\"\n",
    "'''\n"
   ]
  },
  {
   "cell_type": "code",
   "execution_count": 3,
   "metadata": {},
   "outputs": [
    {
     "name": "stdout",
     "output_type": "stream",
     "text": [
      "['False', 'None', 'True', 'and', 'as', 'assert', 'break', 'class', 'continue', 'def', 'del', 'elif', 'else', 'except', 'finally', 'for', 'from', 'global', 'if', 'import', 'in', 'is', 'lambda', 'nonlocal', 'not', 'or', 'pass', 'raise', 'return', 'try', 'while', 'with', 'yield']\n"
     ]
    }
   ],
   "source": [
    "# python의 keyword\n",
    "\n",
    "# keyword module을 로딩해야 해요!\n",
    "import keyword\n",
    "\n",
    "# output 영역에 출력할 때 사용하는 함수 : print()\n",
    "print(keyword.kwlist) #keyword 모듈이 가지고 있는  kwlist를 출력하겠다\n",
    "\n",
    "# jupyter notebook hotkey(단축키) -> cell을 파랗게 만들고 사용\n",
    "# L : 라인번호 toggle\n",
    "# O : output창을 toggle\n",
    "# A : 위쪽 영역에 cell 삽입\n",
    "# B : 아래쪽 영역에 cell 삽입\n",
    "# DD : 현재 cell을 삭제 \n",
    "# CTRL + Enter : 현재 cell 실행\n",
    "# Alt + Enter : 현재 cell 실행, \n",
    "#               아래쪽에 새로운 cell 삽입\n",
    "# Shift + Enter : 현재 cell 실행,\n",
    "#               아래쪽 cell 선택 (연속적으로 cell을 실행하면서 내려갈 수 있음)\n",
    "# []안의 숫자는 해당 cell을 몇번 실행시켰는지를 의미함\n",
    "\n"
   ]
  },
  {
   "cell_type": "code",
   "execution_count": 10,
   "metadata": {},
   "outputs": [
    {
     "name": "stdout",
     "output_type": "stream",
     "text": [
      "100\n",
      "200\n",
      "var2의 값은 :  200\n"
     ]
    },
    {
     "ename": "NameError",
     "evalue": "name 'var2' is not defined",
     "output_type": "error",
     "traceback": [
      "\u001b[1;31m---------------------------------------------------------------------------\u001b[0m",
      "\u001b[1;31mNameError\u001b[0m                                 Traceback (most recent call last)",
      "\u001b[1;32m<ipython-input-10-9a7ecf181009>\u001b[0m in \u001b[0;36m<module>\u001b[1;34m\u001b[0m\n\u001b[0;32m     10\u001b[0m \u001b[1;31m# 인자를 여러개 줄 수 있이요.. 여러개의 인자를 하나씩 출력해요!!\u001b[0m\u001b[1;33m\u001b[0m\u001b[1;33m\u001b[0m\u001b[1;33m\u001b[0m\u001b[0m\n\u001b[0;32m     11\u001b[0m \u001b[1;32mdel\u001b[0m \u001b[0mvar2\u001b[0m \u001b[1;31m# var2를 메모리에서 삭제\u001b[0m\u001b[1;33m\u001b[0m\u001b[1;33m\u001b[0m\u001b[0m\n\u001b[1;32m---> 12\u001b[1;33m \u001b[0mprint\u001b[0m\u001b[1;33m(\u001b[0m\u001b[1;34m\"var2의 값은 : \"\u001b[0m\u001b[1;33m,\u001b[0m\u001b[0mvar2\u001b[0m\u001b[1;33m)\u001b[0m\u001b[1;33m\u001b[0m\u001b[1;33m\u001b[0m\u001b[0m\n\u001b[0m",
      "\u001b[1;31mNameError\u001b[0m: name 'var2' is not defined"
     ]
    }
   ],
   "source": [
    "## 변수를 생성하고 삭제해 보아요!\n",
    "\n",
    "var1 = 100  # ;은 생략이 가능.\n",
    "var2 = 200\n",
    "var1\n",
    "var2  #output은 맨 마지막에 있는 변수명만 출력이 된다. \n",
    "print(var1)\n",
    "print(var2) #print문을 사용하면 전부 출력된다. \n",
    "print(\"var2의 값은 : \",var2) #var2의 값은 :  200\n",
    "# 인자를 여러개 줄 수 있이요.. 여러개의 인자를 하나씩 출력해요!!\n",
    "del var2 # var2를 메모리에서 삭제\n",
    "print(\"var2의 값은 : \",var2) #이렇게하면 위에서 변수가 제거되서 error가 뜨게 된다.\n",
    "\n"
   ]
  }
 ],
 "metadata": {
  "kernelspec": {
   "display_name": "[CPU_ENV]",
   "language": "python",
   "name": "cpu_env"
  },
  "language_info": {
   "codemirror_mode": {
    "name": "ipython",
    "version": 3
   },
   "file_extension": ".py",
   "mimetype": "text/x-python",
   "name": "python",
   "nbconvert_exporter": "python",
   "pygments_lexer": "ipython3",
   "version": "3.6.9"
  }
 },
 "nbformat": 4,
 "nbformat_minor": 2
}
