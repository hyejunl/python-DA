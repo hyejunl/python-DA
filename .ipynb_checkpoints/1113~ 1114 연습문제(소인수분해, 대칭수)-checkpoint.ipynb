{
 "cells": [
  {
   "cell_type": "code",
   "execution_count": 56,
   "metadata": {},
   "outputs": [
    {
     "ename": "KeyboardInterrupt",
     "evalue": "",
     "output_type": "error",
     "traceback": [
      "\u001b[1;31m---------------------------------------------------------------------------\u001b[0m",
      "\u001b[1;31mKeyboardInterrupt\u001b[0m                         Traceback (most recent call last)",
      "\u001b[1;32m<ipython-input-56-86c1ff428702>\u001b[0m in \u001b[0;36m<module>\u001b[1;34m\u001b[0m\n\u001b[0;32m     47\u001b[0m \u001b[1;33m\u001b[0m\u001b[0m\n\u001b[0;32m     48\u001b[0m \u001b[0mmyli\u001b[0m\u001b[1;33m=\u001b[0m\u001b[1;33m[\u001b[0m\u001b[1;33m]\u001b[0m\u001b[1;33m\u001b[0m\u001b[1;33m\u001b[0m\u001b[0m\n\u001b[1;32m---> 49\u001b[1;33m \u001b[0mp\u001b[0m \u001b[1;33m=\u001b[0m\u001b[0mprime\u001b[0m\u001b[1;33m(\u001b[0m\u001b[0mlim\u001b[0m\u001b[1;33m)\u001b[0m\u001b[1;33m\u001b[0m\u001b[1;33m\u001b[0m\u001b[0m\n\u001b[0m\u001b[0;32m     50\u001b[0m \u001b[1;32mfor\u001b[0m \u001b[0mf\u001b[0m \u001b[1;32min\u001b[0m \u001b[0mp\u001b[0m\u001b[1;33m:\u001b[0m\u001b[1;33m\u001b[0m\u001b[1;33m\u001b[0m\u001b[0m\n\u001b[0;32m     51\u001b[0m     \u001b[1;32mif\u001b[0m \u001b[0mdn\u001b[0m\u001b[1;33m%\u001b[0m\u001b[0mf\u001b[0m\u001b[1;33m==\u001b[0m\u001b[1;36m0\u001b[0m\u001b[1;33m:\u001b[0m\u001b[1;33m\u001b[0m\u001b[1;33m\u001b[0m\u001b[0m\n",
      "\u001b[1;32m<ipython-input-56-86c1ff428702>\u001b[0m in \u001b[0;36mprime\u001b[1;34m(x)\u001b[0m\n\u001b[0;32m     37\u001b[0m         \u001b[0mdivC\u001b[0m\u001b[1;33m=\u001b[0m\u001b[1;36m0\u001b[0m\u001b[1;33m\u001b[0m\u001b[1;33m\u001b[0m\u001b[0m\n\u001b[0;32m     38\u001b[0m         \u001b[1;32mfor\u001b[0m \u001b[0mi\u001b[0m \u001b[1;32min\u001b[0m \u001b[0mrange\u001b[0m \u001b[1;33m(\u001b[0m\u001b[1;36m2\u001b[0m\u001b[1;33m,\u001b[0m\u001b[0mx\u001b[0m\u001b[1;33m)\u001b[0m\u001b[1;33m:\u001b[0m\u001b[1;33m\u001b[0m\u001b[1;33m\u001b[0m\u001b[0m\n\u001b[1;32m---> 39\u001b[1;33m             \u001b[1;32mif\u001b[0m \u001b[0mk\u001b[0m\u001b[1;33m%\u001b[0m\u001b[0mi\u001b[0m\u001b[1;33m==\u001b[0m\u001b[1;36m0\u001b[0m\u001b[1;33m:\u001b[0m\u001b[1;33m\u001b[0m\u001b[1;33m\u001b[0m\u001b[0m\n\u001b[0m\u001b[0;32m     40\u001b[0m                 \u001b[0mdivC\u001b[0m\u001b[1;33m+=\u001b[0m\u001b[1;36m1\u001b[0m\u001b[1;33m\u001b[0m\u001b[1;33m\u001b[0m\u001b[0m\n\u001b[0;32m     41\u001b[0m         \u001b[1;32mif\u001b[0m \u001b[0mdivC\u001b[0m\u001b[1;33m==\u001b[0m\u001b[1;36m1\u001b[0m\u001b[1;33m:\u001b[0m\u001b[1;33m\u001b[0m\u001b[1;33m\u001b[0m\u001b[0m\n",
      "\u001b[1;31mKeyboardInterrupt\u001b[0m: "
     ]
    }
   ],
   "source": [
    "## 문제 5번\n",
    "## 어떤 수를 소수의 곱으로만 나타내는 것을 소인수분해라고 합니다.\n",
    "## 이 소수들을 그 수의 소인수라고 합니다.\n",
    "\n",
    "## 예를 들면 13195의 소인수는 5, 7, 13, 29 입니다.\n",
    "\n",
    "## 600851475143의 소인수 중 가장 큰 수는 얼마인가요?\n",
    "\n",
    "dn=600851475143\n",
    "dn2=dn**0.5\n",
    "lim=int(dn2)\n",
    "\n",
    "# for i in range(1,lim+1):\n",
    "#     if dn/i ==0:\n",
    "\n",
    "# plist=[]\n",
    "# n=100\n",
    "\n",
    "# for k in range(2,n+1):\n",
    "#     divC=0\n",
    "#     for i in range (2,n):\n",
    "#         if k%i==0:\n",
    "#             divC+=1\n",
    "#     if divC==1:\n",
    "#         plist.append(k)\n",
    "# print(plist)\n",
    "#     if divC ==1:\n",
    "#         plist.append(k)\n",
    "# print(plist)\n",
    "\n",
    "\n",
    "\n",
    "def prime(x):\n",
    "    plist=[]\n",
    "    n=100\n",
    "    for k in range(2,x+1):\n",
    "        divC=0\n",
    "        for i in range (2,x):\n",
    "            if k%i==0:\n",
    "                divC+=1\n",
    "        if divC==1:\n",
    "            plist.append(k)\n",
    "    return plist\n",
    "    \n",
    "\n",
    "\n",
    "    \n",
    "myli=[]\n",
    "p =prime(lim)\n",
    "for f in p:\n",
    "    if dn%f==0:\n",
    "        myli.append(f)\n",
    "print(myli[-1])\n",
    "\n",
    "        "
   ]
  },
  {
   "cell_type": "code",
   "execution_count": 79,
   "metadata": {},
   "outputs": [
    {
     "name": "stdout",
     "output_type": "stream",
     "text": [
      "[71, 839, 1471, 6857, 59569, 104441, 486847]\n",
      "6857\n"
     ]
    }
   ],
   "source": [
    "dn=600851475143\n",
    "dn2=dn**0.5\n",
    "lim=int(dn2)\n",
    "divli=[]\n",
    "for i in range(2,lim+1):\n",
    "    if dn%i ==0:\n",
    "        divli.append(i)\n",
    "print(divli)\n",
    "\n",
    "def primeq(x):\n",
    "    divC=0\n",
    "    plist=[]\n",
    "    for i in range (2,x+1):\n",
    "        if x%i==0:\n",
    "            divC+=1\n",
    "    if divC==1:\n",
    "        return x\n",
    "\n",
    "lili=[]\n",
    "for i in divli:\n",
    "    if primeq(i):\n",
    "        lili.append(primeq(i))\n",
    "    \n",
    "print(max(lili))"
   ]
  },
  {
   "cell_type": "code",
   "execution_count": 33,
   "metadata": {},
   "outputs": [
    {
     "data": {
      "text/plain": [
       "906609"
      ]
     },
     "execution_count": 33,
     "metadata": {},
     "output_type": "execute_result"
    }
   ],
   "source": [
    "## 문제 6.\n",
    "## 앞에서부터 읽을때나 뒤에서부터 읽을때 모양이 같은 수를 대칭수라고 합니다.\n",
    "\n",
    "## 두자리 수를 곱해서 만들 수 있는 대칭수 중에\n",
    "## 가장 큰 수는 9009 (91*99)\n",
    "## 세자리 수를 곱해서 만들 수 있는 가장 큰 대칭 수는 얼마인가요?\n",
    "## 100 * 100 = ? => 대칭수인지 확인 => 저장\n",
    "## 100 * 101 = ? => 대칭수인지 확인 => 저장\n",
    "\n",
    "# result=[]\n",
    "# for i in range(10**2,10**3):\n",
    "#     for k in range(10**2,10**3):\n",
    "#         num=i*k\n",
    "#         s=str(num)\n",
    "#         r_num=\"\".join(reversed(s))\n",
    "#         if s == r_num:\n",
    "#             result.append(num)\n",
    "# print(result[-1])\n",
    "        \n",
    "\n",
    "\n",
    "\n",
    "    \n",
    "def synum(x):\n",
    "    result=[]\n",
    "    for i in range(10**(x-1),10**x):\n",
    "        for k in range(10**(x-1),10**x):\n",
    "            num=i*k\n",
    "            s=str(num)\n",
    "            r_num=\"\".join(reversed(s))\n",
    "            if s == r_num:\n",
    "                result.append(num)\n",
    "    return max(result)\n",
    "\n",
    "    \n",
    "synum(3)\n",
    "    \n",
    "\n",
    "\n",
    "\n",
    "\n",
    "# # 숫자 문자열 만들어서 뒤집기\n",
    "# a=1234\n",
    "# s=str(a)\n",
    "# \"\".join(reversed(s))"
   ]
  },
  {
   "cell_type": "code",
   "execution_count": 31,
   "metadata": {},
   "outputs": [
    {
     "name": "stdout",
     "output_type": "stream",
     "text": [
      "906609\n"
     ]
    }
   ],
   "source": [
    "result=[]\n",
    "for i in range(10**2,10**3):\n",
    "    for k in range(10**2,10**3):\n",
    "        num=i*k\n",
    "        s=str(num)\n",
    "        r_num=s[::-1]  #문자열[::-1]  : 문자열을 뒤집는 방법\n",
    "        if s == r_num:\n",
    "            result.append(num)\n",
    "print(max(result))"
   ]
  },
  {
   "cell_type": "code",
   "execution_count": 36,
   "metadata": {},
   "outputs": [
    {
     "name": "stdout",
     "output_type": "stream",
     "text": [
      "99000099\n"
     ]
    }
   ],
   "source": [
    "# 대칭수인가 판별하는 함수 check_n\n",
    "def check_n(x):\n",
    "    s=str(x)\n",
    "    r_num=\"\".join(reversed(s))\n",
    "    if s ==  r_num:\n",
    "        return True\n",
    "    else:\n",
    "        return False\n",
    "\n",
    "# x자릿수의 곱 중에 가장 큰 대칭수 찾는 함수 synum2\n",
    "def synum2(x):\n",
    "    result=[]\n",
    "    for i in range(10**(x-1),10**x):\n",
    "        for k in range(10**(x-1),10**x):\n",
    "            num=i*k\n",
    "            if check_n(num):\n",
    "                result.append(num)\n",
    "    print(max(result))\n",
    "                \n",
    "        \n",
    "synum2(4)\n",
    "                \n",
    "                \n",
    "        "
   ]
  },
  {
   "cell_type": "code",
   "execution_count": 47,
   "metadata": {},
   "outputs": [
    {
     "name": "stdout",
     "output_type": "stream",
     "text": [
      "906609\n"
     ]
    }
   ],
   "source": [
    "########## 선생님풀이\n",
    "def check_number(x):\n",
    "    str1 = str(x)\n",
    "    tmp = list(str(x))\n",
    "    tmp.reverse()\n",
    "    if str1 == \"\".join(tmp):\n",
    "        return True\n",
    "    else:\n",
    "        return False\n",
    "    \n",
    "# check_number(1239)\n",
    "\n",
    "def calcul_number(x): #x가 1이면 2자리수끼리 곱/ x가 2이면 3자리수끼리 곱\n",
    "    result=[]\n",
    "    for i in range(10**x,10**(x+1)):\n",
    "        for j in range(10**x,10**(x+1)):\n",
    "            if check_number(i*j):\n",
    "                result.append(i*j)\n",
    "    print(max(result))\n",
    "\n",
    "calcul_number(2)\n",
    "\n",
    "        "
   ]
  },
  {
   "cell_type": "code",
   "execution_count": 82,
   "metadata": {},
   "outputs": [
    {
     "name": "stdout",
     "output_type": "stream",
     "text": [
      "232792560\n"
     ]
    }
   ],
   "source": [
    "### 문제 7.\n",
    "##\n",
    "## 1부터 10사이의 어떤 수로도 나누어 떨어지는 가장 작은 수는 2520\n",
    "\n",
    "## 1부터 20사이의 어떤 수로도 나누어 떨어지는 가장 작은 수는 얼마?\n",
    "## 시작과 끝을 인자로 주고 나누어 떨어지는 작은 수\n",
    "#답:232792560\n",
    "\n",
    "t=0\n",
    "result=[]\n",
    "while len(result)<20:\n",
    "    result=[]\n",
    "    t+=1\n",
    "    for i in range(1,21):\n",
    "        if t%i==0:\n",
    "            result.append(i)\n",
    "print(t)\n",
    "            \n",
    "        "
   ]
  },
  {
   "cell_type": "code",
   "execution_count": 115,
   "metadata": {},
   "outputs": [
    {
     "name": "stdout",
     "output_type": "stream",
     "text": [
      "232792560\n"
     ]
    }
   ],
   "source": [
    "# x 이하인 소수(prime number)들 구하는 함수\n",
    "def prime(x):\n",
    "    plist=[]\n",
    "    for k in range(2,x+1):\n",
    "        divC=0\n",
    "        for i in range (2,x):\n",
    "            if k%i==0:\n",
    "                divC+=1\n",
    "        if divC==1:\n",
    "            plist.append(k)\n",
    "    return plist\n",
    "\n",
    "\n",
    "# x=1\n",
    "# while 2**x<=20:\n",
    "#     x+=1\n",
    "# print(x)\n",
    "\n",
    "# z이하이면서 x의 최대 y제곱\n",
    "def squ(x,y):\n",
    "    t=1\n",
    "    while x**t<=y:\n",
    "        t+=1\n",
    "    return(t-1)\n",
    "\n",
    "\n",
    "\n",
    "#a부터 b사이의 어떤 수로도 나누어 떨어지는 가장 작은 수\n",
    "def myFunc3(x):\n",
    "    p= prime(x)\n",
    "    final=[]\n",
    "    mul=1\n",
    "    for i in range(len(p)):\n",
    "        final.append(squ(p[i],x))\n",
    "        a=p[i]**final[i]\n",
    "        mul*=a\n",
    "    print(mul)\n",
    "        \n",
    "\n",
    "\n",
    "\n",
    "myFunc3(20)\n",
    "\n",
    "\n",
    "\n",
    "\n",
    "# # print(prime(20)) #20  이하의 소수 리스트형식으로 return\n",
    "# p=prime(20)\n",
    "# final=[]\n",
    "# mul=1\n",
    "# for i in range(len(p)):\n",
    "#     final.append(squ(p[i],20))\n",
    "#     a=p[i]**final[i]\n",
    "#     mul*= a\n",
    "# print(mul)\n",
    "\n",
    "# # print(final)\n",
    "# print(len(p))\n",
    "# print(len(final))\n",
    "\n",
    "\n",
    "    "
   ]
  },
  {
   "cell_type": "code",
   "execution_count": 123,
   "metadata": {},
   "outputs": [
    {
     "data": {
      "text/plain": [
       "30"
      ]
     },
     "execution_count": 123,
     "metadata": {},
     "output_type": "execute_result"
    }
   ],
   "source": [
    "def lcm(x,y):\n",
    "    greater=y\n",
    "    while True:\n",
    "        if greater%x==0 and greater%y==0:\n",
    "            break\n",
    "        else:\n",
    "            greater+=1\n",
    "    return greater\n",
    "\n",
    "a=lcm()\n",
    "for i in range(1,11):\n",
    "    a=lcm(a,lcm(i))\n",
    "    \n",
    "\n",
    "\n",
    "\n",
    "\n",
    "\n",
    "\n"
   ]
  }
 ],
 "metadata": {
  "kernelspec": {
   "display_name": "[CPU_ENV]",
   "language": "python",
   "name": "cpu_env"
  },
  "language_info": {
   "codemirror_mode": {
    "name": "ipython",
    "version": 3
   },
   "file_extension": ".py",
   "mimetype": "text/x-python",
   "name": "python",
   "nbconvert_exporter": "python",
   "pygments_lexer": "ipython3",
   "version": "3.6.9"
  }
 },
 "nbformat": 4,
 "nbformat_minor": 2
}
