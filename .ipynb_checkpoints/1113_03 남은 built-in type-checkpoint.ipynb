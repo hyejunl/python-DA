{
 "cells": [
  {
   "cell_type": "code",
   "execution_count": 35,
   "metadata": {},
   "outputs": [
    {
     "name": "stdout",
     "output_type": "stream",
     "text": [
      "False\n",
      "True\n",
      "False\n",
      "False\n",
      "True\n",
      "True\n",
      "0\n",
      "1\n",
      "False\n",
      "False\n",
      "True\n",
      "True\n",
      "True\n",
      "False\n",
      "{1, 2, 3, 4}\n",
      "{'H', 'e', 'o', 'l'}\n",
      "{3, 4}\n",
      "{3, 4}\n",
      "{1, 2, 3, 4, 5, 6}\n",
      "{1, 2, 3, 4, 5, 6}\n",
      "{1, 2}\n",
      "{1, 2}\n",
      "{1, 2, 3, 4, 5, 7}\n",
      "{1, 2, 3, 4, 5, 7, 10, 11, 12}\n",
      "{2, 3, 4, 5, 7, 10, 11, 12}\n"
     ]
    }
   ],
   "source": [
    "## python\n",
    "## 1. 환경설정\n",
    "##    - PyCharm IDE를 이용해서 개발\n",
    "## 여러명이 같은 파일, 같은 프로젝트를 공유하면서 개발할때 유리\n",
    "## interactive한 개발은 힘들어요!\n",
    "## jupyter는cell들이 서로 나누어져서 독립적인 것이 아니라 조금씩 나눠서 코드를 작성할 수 있다는 장점이 있다\n",
    "## PyCharm은 한번에 코드를 만들어서 한번에 돌려야하기 때문에 오류가 났을 때 찾기 힘들다.\n",
    "## 데이터분석 작업보다는 Web개발이나 다른 application작성\n",
    "##    - Jupyter Notebook\n",
    "## Interactive한 개발이 가능해서 데이터분석에 대한 학습이나 실제 분석작업을 많이 해요!\n",
    "## 여러명이 공동작업할 때는 불편불편!!\n",
    "## 2. jupyter notebook 사용방법\n",
    "##    - cell 생성, cell안의 코드 실행방법 \n",
    "##    - cell 삭제\n",
    "##    - 무한루프가 되면 실행 interrupt\n",
    "##    - Kernel -> Restart & Run All 하면 맨 윗 셀부터 마지막 셀까지 순차적으로 실행됨\n",
    "##    - 기본적인 tool 사용법\n",
    "## 3. python built-in types\n",
    "##    - Numeric Type ( int,float,complex )\n",
    "##    - Text Sequence Type ( str ) => 약간 길게 설명\n",
    "##    - Sequence Type ( list, tuple, range )\n",
    "##    - Mapping Type: key와 value로 이루어진 데이터 타입 ( dict )\n",
    "##    - Bool Type ( bool ) : True, False를 사용해요\n",
    "##    - and : 논리연산자, or : 논리연산자\n",
    "result = True and False #R에서의 &와 같은 역할\n",
    "print(result) #False\n",
    "result = True or False #R에서의 |와 같은 역할\n",
    "print(result) #True\n",
    "result = not True\n",
    "print(result) #False\n",
    "##    - &, | : 비교연산자, bitwise연산 \n",
    "##    python에서 숫자 0은 False로 간주, 0이 아닌 모든 숫자는 True\n",
    "print(bool(0)) #False\n",
    "print(bool(1));print(bool(100)) #True\n",
    "##    python에서 False는 숫자 0으로 변환, True는 숫자 1로 변환\n",
    "print(int(False)) #0\n",
    "print(int(True)) #1\n",
    "##    10진수 5를 2진수 => 0101\n",
    "##   10진수 1을 2진수 => 000`\n",
    "##    True & False => 1 & 0 => 0001 & 0000 => 각자리를 &연산(둘다1이여야 1) 0000 => 0 => False\n",
    "result = True & False \n",
    "print(result) #False\n",
    "##    python은 다음의 경우를 False로 간주\n",
    "##    숫자 0, 빈 문자열(\"\"), 빈 리스트([]), 빈 튜플(()), 빈 dict ({}), None(값이 없다)\n",
    "print(bool(\"\")) #False\n",
    "print(bool(\"소리없는 아우성\")) #True (비어있지 않은 문자열은 True)\n",
    "print(bool([1])) #True (리스트안에 뭐라도 들어있으면 True)\n",
    "print(bool((1,2))) #True \n",
    "print(bool(None)) #False\n",
    "\n",
    "##    2019-11-13 python의 남은 built-in type\n",
    "##    set type (set)\n",
    "##    어떻게 생겼나요?? => {}\n",
    "##    {} : 기본적으로 dict. dict는 {} 안에 key와 value로 구성\n",
    "##    set는 {} 안에 요소만 들어가요\n",
    "a = {\"name\":\"홍길동\", \"age\":20} #dict\n",
    "a = {1,2,3} # dict 표현인데 key가 없어요! =>set\n",
    "a = set()\n",
    "##    set이라는 자료구조는 기본적으로 순서가 없어요. 중복을 허용하지 않는 저장장소\n",
    "\n",
    "## 간단하게 set예제를 만들어보아요!\n",
    "a = set([1,2,3,4,1,2,3,1,2,3]) #set은 중복을 배제해요!\n",
    "print(a)\n",
    "a = set(\"Hello\") # 문자열을 set으로 만들면 어떻게 되나요? \n",
    "#문자열은 index로 사용할 수 있기 때문에 리스트같이 사용할 수 있다\n",
    "print(a)\n",
    "\n",
    "# set의 연산\n",
    "a = { 1,2,3,4 } # set의 literal\n",
    "b = { 3,4,5,6 }\n",
    "# set => 집합 (집합연산, 교집합, 합집합, 차집합)\n",
    "print(a & b) # &: 만약 set에 적용하면 교집합( intersection ) #{3, 4}\n",
    "print(a.intersection(b)) #{3, 4}\n",
    "print(a | b) # |: 만약 set에 적용하면 합집합(union) #{1, 2, 3, 4, 5, 6}\n",
    "print(a.union(b)) #{1, 2, 3, 4, 5, 6}\n",
    "print(a - b) # -: 만약 set에 적용하면 차잡합(difference) #{1, 2}\n",
    "print(a.difference(b)) #{1, 2}\n",
    "\n",
    "mySet = {1,2,3,4,5}\n",
    "mySet.add(7) #add()는 set에 원하는 요소 1개를 추가\n",
    "print(mySet) #{1, 2, 3, 4, 5, 7}\n",
    "mySet.update([10,11,12]) #update()는 여러개를 set에 추가 (뒤에 리스트나 set 형태로 넣어주면 됨)\n",
    "print(mySet) #{1, 2, 3, 4, 5, 7, 10, 11, 12}\n",
    "mySet.remove(1) #remove()는 원하는 값을 삭제\n",
    "print(mySet) #{2, 3, 4, 5, 7, 10, 11, 12}"
   ]
  },
  {
   "cell_type": "code",
   "execution_count": 6,
   "metadata": {},
   "outputs": [
    {
     "data": {
      "text/plain": [
       "6"
      ]
     },
     "execution_count": 6,
     "metadata": {},
     "output_type": "execute_result"
    }
   ],
   "source": [
    "a= [1,2,3]\n",
    "sum(a) #리스트의 합을 알 수 있는 함수 sum => sum을 변수명으로 사용하지 않도록 하세용!!!"
   ]
  },
  {
   "cell_type": "code",
   "execution_count": null,
   "metadata": {},
   "outputs": [],
   "source": []
  }
 ],
 "metadata": {
  "kernelspec": {
   "display_name": "[CPU_ENV]",
   "language": "python",
   "name": "cpu_env"
  },
  "language_info": {
   "codemirror_mode": {
    "name": "ipython",
    "version": 3
   },
   "file_extension": ".py",
   "mimetype": "text/x-python",
   "name": "python",
   "nbconvert_exporter": "python",
   "pygments_lexer": "ipython3",
   "version": "3.6.9"
  }
 },
 "nbformat": 4,
 "nbformat_minor": 2
}
