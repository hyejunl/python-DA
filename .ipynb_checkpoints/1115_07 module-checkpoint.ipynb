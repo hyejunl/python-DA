{
 "cells": [
  {
   "cell_type": "code",
   "execution_count": 2,
   "metadata": {},
   "outputs": [],
   "source": [
    "## python은 module이란 걸 사용해요!\n",
    "## module : 하나의 python 파일. => 변수, 함수, class\n",
    "## python의 module은 다른 python 프로그램에서 불러와 사용할 수 있는 python file을 지칭\n",
    "\n",
    "## 우리가 생성한 module을 어디에다 저장해 놔야 할까요?\n",
    "# import sys #sys라는 module을 불러와서 사용할거에요!\n",
    "# sys.path.append(\"C:/python_Lib\")      # \"c:/python_Lib\"폴더를 우리의 module을 저장할 sys.path로 지정할거야.\n",
    "## 환경변수 PYTHONPATH 라는걸 만들어서 여기에 module을 넣어 놓으면 프로그램 어디에서나 사용할 수 있어요!\n",
    "\n",
    "\n",
    "# py 파일로 모듈을 만들어서 python_Lib에다가 해당 모듈을 가져다가 넣음\n",
    "# py에서 만든 모듈을 여기서 사용해보자\n"
   ]
  },
  {
   "cell_type": "code",
   "execution_count": 19,
   "metadata": {},
   "outputs": [
    {
     "name": "stdout",
     "output_type": "stream",
     "text": [
      "3.141592\n",
      "30\n",
      "3.141592\n",
      "30\n",
      "3.141592\n",
      "3.141592\n",
      "3.141592\n",
      "30\n"
     ]
    }
   ],
   "source": [
    "## module을 사용하는 형식은\n",
    "## import 모듈명(파일명) \n",
    "import module1    #파일명에 확장자는 적지 않습니다.\n",
    "\n",
    "# 모듈파일에서 만든 module_Pi = 3.141592 이걸 쓰고 싶어\n",
    "# print(module1.Module_Pi) #module1의 module_Pi 변수를 가져다가 프린트하겠어\n",
    "# print(module1.mySum(10,20))\n",
    "\n",
    "# alias를 이용해서 편하게 사용해 보아요! ★★\n",
    "import module1 as m #module1을 m이라고 별명 붙여주고 이용할거야\n",
    "print(m.Module_Pi) \n",
    "print(m.mySum(10,20))\n",
    "\n",
    "# from 모듈이름 import 모듈함수(변수, 클래스, 함수, *)\n",
    "from module1 import Module_Pi #module1 안에있는 Module_Pi의 type은 모르겠으나 이것을 사용할 것이야\n",
    "print(Module_Pi)\n",
    "\n",
    "from module1 import * #module1 안에 있는 것들 싹다 가져와 \n",
    "print(mySum(10,20))\n",
    "\n",
    "# package : \".\" 기호를 이용해서 module을 계층적으로 관리\n",
    "# package는 물리적으로 표현할 경우 => 폴더로 표현\n",
    "# A.B 라고 할때 A : package, B : module\n",
    "import myPackage.module1 #모듈을 myPackage라는 폴더안에 넣어서 관리\n",
    "print(myPackage.module1.Module_Pi)\n",
    "\n",
    "from myPackage import module1 #이 package에서 이 module을 import 해 ★★\n",
    "print(module1.Module_Pi)\n",
    "\n",
    "from myPackage.module1 import *\n",
    "print(Module_Pi)\n",
    "\n",
    "from myPackage.module1 import mySum \n",
    "print(mySum(10,20))\n"
   ]
  }
 ],
 "metadata": {
  "kernelspec": {
   "display_name": "[CPU_ENV]",
   "language": "python",
   "name": "cpu_env"
  },
  "language_info": {
   "codemirror_mode": {
    "name": "ipython",
    "version": 3
   },
   "file_extension": ".py",
   "mimetype": "text/x-python",
   "name": "python",
   "nbconvert_exporter": "python",
   "pygments_lexer": "ipython3",
   "version": "3.6.9"
  }
 },
 "nbformat": 4,
 "nbformat_minor": 2
}
