{
 "cells": [
  {
   "cell_type": "code",
   "execution_count": 76,
   "metadata": {},
   "outputs": [
    {
     "name": "stdout",
     "output_type": "stream",
     "text": [
      "dict_values(['아이유', 95.0, 1])\n",
      "dict_values(['강감찬', 60.0, 2])\n",
      "dict_values(['최길동', 47.67, 3])\n",
      "dict_values(['이선희', 38.33, 4])\n",
      "dict_values(['신사임당', 23.33, 5])\n",
      "dict_values(['김연아', 19.67, 6])\n",
      "dict_values(['홍길동', 14.67, 7])\n"
     ]
    }
   ],
   "source": [
    "## 문제 8.\n",
    "## \n",
    "## student_score.txt의 내용을 읽어서\n",
    "## 학생 성적에 대한 전체 평균을 구하고\n",
    "## 성적순으로 출력하세요!\n",
    "## 출력형식 : 이름, 성적평균, 등수\n",
    "## 학생1명의 정보 => dict로 표현해볼까?\n",
    "\n",
    "#########1.평균구하고 새로운 dict 만들기\n",
    "file1 = open(\"student_score.txt\",\"r\")\n",
    "\n",
    "\n",
    "f_li=[]\n",
    "while True:\n",
    "    line = file1.readline()\n",
    "    if not line:\n",
    "        break;\n",
    "    myli=line.split(\",\")\n",
    "    inli=[]\n",
    "    for i in myli[1:]:\n",
    "        inli.append(int(i))\n",
    "    avg=round(sum(inli)/len(inli),2)\n",
    "    a= {\"name\": myli[0]} #가 dict\n",
    "    a[\"avg_score\"]=avg\n",
    "    f_li.append(a)\n",
    "result= sorted(f_li,key=lambda k:k[\"avg_score\"],reverse= True)\n",
    "#print(result)\n",
    "for i in range(len(result)):\n",
    "    result[i].update({\"rank\": i+1 })\n",
    "    print(result[i].values())\n",
    "    \n",
    "    \n",
    "# print(result)\n",
    "\n",
    "# sorted(f_li,key=itemgetter(\"avg_score\"),reverse=True)\n",
    "# for i in result:\n",
    "#     print(i.values())\n",
    "    \n",
    "\n",
    "    \n",
    "\n",
    "    \n",
    "    \n",
    "\n",
    "# line=file1.readline()\n",
    "# myli=line.split(\",\")\n",
    "# # print(myli)\n",
    "# inli=[]\n",
    "# for i in myli[1:]:\n",
    "#     inli.append(int(i))\n",
    "# sum(inli)/len(inli)\n",
    "\n",
    "    \n",
    "# sum(myli[1:])/len(myli[1:])\n",
    "\n",
    "    "
   ]
  },
  {
   "cell_type": "code",
   "execution_count": 91,
   "metadata": {
    "scrolled": true
   },
   "outputs": [
    {
     "name": "stdout",
     "output_type": "stream",
     "text": [
      "아이유,95.0,1\n",
      "강감찬,60.0,2\n",
      "최길동,47.67,3\n",
      "이선희,38.33,4\n",
      "신사임당,23.33,5\n",
      "김연아,19.67,6\n",
      "홍길동,14.67,7\n"
     ]
    }
   ],
   "source": [
    "##########2. 입력값을 dict에 넣어서 구하기\n",
    "file1 = open(\"student_score.txt\",\"r\")\n",
    "\n",
    "# line=file1.readline()\n",
    "# line\n",
    "\n",
    "\n",
    "f_li2=[]\n",
    "while True:\n",
    "    line=file1.readline()\n",
    "    if not line:\n",
    "        break;\n",
    "    mydict = {\"name\":\"\",\"kor\":\"\",\"eng\":\"\",\"math\":\"\"}\n",
    "    line=line.replace(\"\\n\",\"\")\n",
    "    myli=line.split(\",\")\n",
    "    k=0\n",
    "    for i in mydict.keys():\n",
    "        mydict[i]=myli[k]\n",
    "        k+=1\n",
    "    f_li2.append(mydict)\n",
    "\n",
    "\n",
    "for i in f_li2:\n",
    "    a = round((int(i[\"kor\"])+int(i[\"eng\"])+int(i[\"math\"]))/3,2) \n",
    "    i.update({\"avg\": a })\n",
    "\n",
    "# print(f_li2)\n",
    "resulti= sorted(f_li2,key=lambda k:k[\"avg\"],reverse= True)\n",
    "for i in range(len(resulti)):\n",
    "    resulti[i].update({\"rank\": i+1 })\n",
    "    #print(result[i].values())\n",
    "    print(\"{},{},{}\".format(resulti[i][\"name\"],resulti[i][\"avg\"],resulti[i][\"rank\"]))"
   ]
  },
  {
   "cell_type": "code",
   "execution_count": 1,
   "metadata": {
    "scrolled": true
   },
   "outputs": [
    {
     "name": "stdout",
     "output_type": "stream",
     "text": [
      "<student_score.Student object at 0x0000019274DA8198>\n",
      "학생의 이름은:아이유,평균은:95.00\n",
      "학생의 이름은:강감찬,평균은:60.00\n",
      "학생의 이름은:최길동,평균은:47.67\n",
      "학생의 이름은:이선희,평균은:38.33\n",
      "학생의 이름은:신사임당,평균은:23.33\n",
      "학생의 이름은:김연아,평균은:19.67\n",
      "학생의 이름은:홍길동,평균은:14.67\n"
     ]
    }
   ],
   "source": [
    "##################3. class로 구하기 (선생님의 풀이)\n",
    "\n",
    "import student_score as ss #모듈은 한번만 불러와서 모듈 수정하고 다시 불러오려면 껐다가 켜야됨.\n",
    "import operator            # 정렬을 편하게 하기 위해서 외부 module operator를 사용\n",
    "\n",
    "result = list() #학생객체들이 모여있는 리스트\n",
    "\n",
    "studentFile= open(\"student_score.txt\",\"r\")\n",
    "\n",
    "while True:\n",
    "    stu = (studentFile.readline()).replace(\"\\n\",\"\")\n",
    "    if stu == \"\":\n",
    "        break;\n",
    "    stu_list = stu.split(\",\") # ,를 기준으로 tokenizing (문자열을 분리해서 리스트로 리턴) [\"홍길동\",\"18\",\"7\",\"19\"]\n",
    "    result.append(ss.Student(stu_list[0],stu_list[1],stu_list[2],stu_list[3]))     #ss모듈의 class Student를 이용해서 객체를 만들겠다\n",
    "    \n",
    "    \n",
    "## 정상적으로 데이터가 생성되었는지 확인\n",
    "# for s in result:\n",
    "#     s.print_student()\n",
    "\n",
    "\n",
    "## 정렬을 해보아요!! attrgetter : property의 값을 추출\n",
    "sorted_result = sorted(result, key=operator.attrgetter(\"sAvg\"),reverse=True) #sorted(리스트명,key=operator.attrgetter(\"정렬기준 key이름\"), reverse=True(내림차순정리))\n",
    "\n",
    "for s in sorted_result:\n",
    "    s.print_student()\n",
    "    "
   ]
  },
  {
   "cell_type": "code",
   "execution_count": 4,
   "metadata": {},
   "outputs": [
    {
     "name": "stdout",
     "output_type": "stream",
     "text": [
      "[1, 3, 4, 6, 8, 9, 10]\n"
     ]
    }
   ],
   "source": [
    "# # a = [3,6,8,4,9,10,1]\n",
    "# a = [학생객체1, 학생객체2, 학생객체3, ...]\n",
    "# # 학생객체가 가지고 있는 sAvg를 이용해서 객체를 리스트안에서 정렬\n",
    "# # 외부module을 이용해서 객체를 리스트안에서 정렬\n",
    "\n",
    "# result= sorted(a)\n",
    "# print(result)"
   ]
  },
  {
   "cell_type": "code",
   "execution_count": 5,
   "metadata": {},
   "outputs": [
    {
     "data": {
      "text/plain": [
       "25164150"
      ]
     },
     "execution_count": 5,
     "metadata": {},
     "output_type": "execute_result"
    }
   ],
   "source": [
    "## 문제 9.\n",
    "## 1부터 10까지 자연수를 각각 제곱해서 더하면\n",
    "## 1**2 + 2**2 + 3**2 + 4**2 + ... = 385\n",
    "\n",
    "## 1부터 10까지 모두 더한 다음 그 결과를 제곱하면\n",
    "## (1+2+3+4+...) ** 2 = 3025\n",
    "\n",
    "## 그 차이를 구해보아요 => 3025 - 385 => 2640\n",
    "\n",
    "## 1~100까지 위의 과정을 거치면 결과가 얼마일까요?\n",
    "\n",
    "sum=0\n",
    "for i in range(1,101):\n",
    "    sum+=i**2\n",
    "\n",
    "sum1=0\n",
    "for i in range(1,101):\n",
    "    sum1+=i\n",
    "sum2=sum1**2\n",
    "\n",
    "sum2-sum\n",
    "    "
   ]
  },
  {
   "cell_type": "code",
   "execution_count": 23,
   "metadata": {},
   "outputs": [
    {
     "ename": "KeyboardInterrupt",
     "evalue": "",
     "output_type": "error",
     "traceback": [
      "\u001b[1;31m---------------------------------------------------------------------------\u001b[0m",
      "\u001b[1;31mKeyboardInterrupt\u001b[0m                         Traceback (most recent call last)",
      "\u001b[1;32m<ipython-input-23-0f1da1201d68>\u001b[0m in \u001b[0;36m<module>\u001b[1;34m\u001b[0m\n\u001b[0;32m     16\u001b[0m \u001b[0mx\u001b[0m\u001b[1;33m=\u001b[0m\u001b[1;36m100000\u001b[0m\u001b[1;33m\u001b[0m\u001b[1;33m\u001b[0m\u001b[0m\n\u001b[0;32m     17\u001b[0m \u001b[1;32mwhile\u001b[0m \u001b[0mlen\u001b[0m\u001b[1;33m(\u001b[0m\u001b[0mp\u001b[0m\u001b[1;33m)\u001b[0m\u001b[1;33m<\u001b[0m\u001b[1;36m10000\u001b[0m\u001b[1;33m:\u001b[0m\u001b[1;33m\u001b[0m\u001b[1;33m\u001b[0m\u001b[0m\n\u001b[1;32m---> 18\u001b[1;33m     \u001b[0mprime\u001b[0m\u001b[1;33m(\u001b[0m\u001b[0mx\u001b[0m\u001b[1;33m)\u001b[0m\u001b[1;33m\u001b[0m\u001b[1;33m\u001b[0m\u001b[0m\n\u001b[0m\u001b[0;32m     19\u001b[0m     \u001b[0mx\u001b[0m\u001b[1;33m+=\u001b[0m\u001b[1;36m1\u001b[0m\u001b[1;33m\u001b[0m\u001b[1;33m\u001b[0m\u001b[0m\n\u001b[0;32m     20\u001b[0m \u001b[0mprint\u001b[0m\u001b[1;33m(\u001b[0m\u001b[0mp\u001b[0m\u001b[1;33m)\u001b[0m\u001b[1;33m\u001b[0m\u001b[1;33m\u001b[0m\u001b[0m\n",
      "\u001b[1;32m<ipython-input-23-0f1da1201d68>\u001b[0m in \u001b[0;36mprime\u001b[1;34m(x)\u001b[0m\n\u001b[0;32m      7\u001b[0m     \u001b[1;32mfor\u001b[0m \u001b[0mi\u001b[0m \u001b[1;32min\u001b[0m \u001b[0mrange\u001b[0m\u001b[1;33m(\u001b[0m\u001b[1;36m2\u001b[0m\u001b[1;33m,\u001b[0m\u001b[0mx\u001b[0m\u001b[1;33m+\u001b[0m\u001b[1;36m1\u001b[0m\u001b[1;33m)\u001b[0m\u001b[1;33m:\u001b[0m\u001b[1;33m\u001b[0m\u001b[1;33m\u001b[0m\u001b[0m\n\u001b[0;32m      8\u001b[0m         \u001b[1;32mfor\u001b[0m \u001b[0mk\u001b[0m \u001b[1;32min\u001b[0m \u001b[0mrange\u001b[0m\u001b[1;33m(\u001b[0m\u001b[1;36m2\u001b[0m\u001b[1;33m,\u001b[0m\u001b[0mx\u001b[0m\u001b[1;33m)\u001b[0m\u001b[1;33m:\u001b[0m\u001b[1;33m\u001b[0m\u001b[1;33m\u001b[0m\u001b[0m\n\u001b[1;32m----> 9\u001b[1;33m             \u001b[1;32mif\u001b[0m \u001b[0mi\u001b[0m\u001b[1;33m%\u001b[0m\u001b[0mk\u001b[0m\u001b[1;33m==\u001b[0m\u001b[1;36m0\u001b[0m\u001b[1;33m:\u001b[0m\u001b[1;33m\u001b[0m\u001b[1;33m\u001b[0m\u001b[0m\n\u001b[0m\u001b[0;32m     10\u001b[0m                 \u001b[0mcount\u001b[0m\u001b[1;33m+=\u001b[0m\u001b[1;36m1\u001b[0m\u001b[1;33m\u001b[0m\u001b[1;33m\u001b[0m\u001b[0m\n\u001b[0;32m     11\u001b[0m         \u001b[1;32mif\u001b[0m \u001b[0mcount\u001b[0m \u001b[1;33m==\u001b[0m\u001b[1;36m1\u001b[0m\u001b[1;33m:\u001b[0m\u001b[1;33m\u001b[0m\u001b[1;33m\u001b[0m\u001b[0m\n",
      "\u001b[1;31mKeyboardInterrupt\u001b[0m: "
     ]
    }
   ],
   "source": [
    "## 문제 10.\n",
    "## 소수를 크기순으로 나열하면. 2,3,5,7,11,13,17,...\n",
    "## 이때 10,001번째 소수는 얼마일까?  #104743\n",
    "\n",
    "def prime(x):\n",
    "    count=0;p=list()\n",
    "    for i in range(2,x+1):\n",
    "        for k in range(2,x):\n",
    "            if i%k==0:\n",
    "                count+=1\n",
    "        if count ==1:\n",
    "            p.append(i)\n",
    "        count=0\n",
    "    return p\n",
    "\n",
    "x=100000\n",
    "while len(p)<10000:\n",
    "    prime(x)\n",
    "    x+=1\n",
    "print(p)\n",
    "    \n",
    "    "
   ]
  },
  {
   "cell_type": "code",
   "execution_count": 1,
   "metadata": {},
   "outputs": [
    {
     "name": "stdout",
     "output_type": "stream",
     "text": [
      "104743\n"
     ]
    }
   ],
   "source": [
    "\n",
    "def primeq(x):\n",
    "    divC=0\n",
    "    for i in range (2,int(x**0.5)+1):\n",
    "        if x%i==0:\n",
    "            divC+=1\n",
    "    if divC==0:\n",
    "        return x\n",
    "\n",
    "q=[]    \n",
    "x=2\n",
    "while len(q)<10001:\n",
    "    if primeq(x):\n",
    "        q.append(primeq(x))\n",
    "    x+=1\n",
    "print(q[-1])\n"
   ]
  },
  {
   "cell_type": "code",
   "execution_count": 30,
   "metadata": {},
   "outputs": [
    {
     "name": "stdout",
     "output_type": "stream",
     "text": [
      "31875000\n",
      "Wall time: 130 ms\n"
     ]
    }
   ],
   "source": [
    "%%time\n",
    "## 문제 11.\n",
    "## 세개의 자연수 a,b,c\n",
    "## a**2 + b**2 = c**2 ( 3, 4, 5 )\n",
    "## 이런 특징을 가지는 수에 대해서\n",
    "\n",
    "## a + b + c = 1000인 피타고라스 수는 1개만 존재\n",
    "## 이때 a * b * c ?\n",
    "\n",
    "# a는 1000/3까지, b는 1000/2까지\n",
    "\n",
    "for a in range(1,335):\n",
    "    for b in range(1,501):\n",
    "        c = 1000 - (a+b)\n",
    "        if a<b<c and a**2 + b**2 == c**2:\n",
    "            print(a*b*c)\n"
   ]
  },
  {
   "cell_type": "code",
   "execution_count": 38,
   "metadata": {},
   "outputs": [
    {
     "name": "stdout",
     "output_type": "stream",
     "text": [
      "31875000\n",
      "Wall time: 104 ms\n"
     ]
    }
   ],
   "source": [
    "%%time\n",
    "for a in range(1,500+1):\n",
    "    for b in range(1,a+1):\n",
    "        c = 1000 - (a+b)\n",
    "        if c>a and a**2 + b**2 == c**2:\n",
    "            print(a*b*c)\n"
   ]
  }
 ],
 "metadata": {
  "kernelspec": {
   "display_name": "[CPU_ENV]",
   "language": "python",
   "name": "cpu_env"
  },
  "language_info": {
   "codemirror_mode": {
    "name": "ipython",
    "version": 3
   },
   "file_extension": ".py",
   "mimetype": "text/x-python",
   "name": "python",
   "nbconvert_exporter": "python",
   "pygments_lexer": "ipython3",
   "version": "3.6.9"
  }
 },
 "nbformat": 4,
 "nbformat_minor": 2
}
