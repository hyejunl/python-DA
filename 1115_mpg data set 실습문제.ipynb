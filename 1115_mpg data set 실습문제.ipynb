{
 "cells": [
  {
   "cell_type": "code",
   "execution_count": 1,
   "metadata": {},
   "outputs": [],
   "source": [
    "import mpg_data as mpg\n",
    "\n",
    "result=list()\n",
    "\n",
    "mpgdata=open(\"mpg_data.csv\",\"r\")\n",
    "\n",
    "f=mpgdata.readline()\n",
    "mpgdata=mpgdata\n",
    "\n",
    "\n",
    "while True:\n",
    "    line=mpgdata.readline()\n",
    "    line=line.replace(\"\\n\",\"\")\n",
    "    if line==\"\":\n",
    "        break;\n",
    "    mlist=line.split(\",\")\n",
    "    result.append(mpg.Mpg(mlist[0],mlist[1],mlist[2],mlist[3],mlist[4],mlist[5],mlist[6],mlist[7],mlist[8],mlist[9],mlist[10]))\n",
    "\n",
    "# print(result[1])\n",
    "\n",
    "\n",
    "\n",
    "        \n",
    "\n",
    "    "
   ]
  },
  {
   "cell_type": "code",
   "execution_count": 2,
   "metadata": {},
   "outputs": [
    {
     "name": "stdout",
     "output_type": "stream",
     "text": [
      "배기량이 4이하인 자동차의 평균 고속도로 연비:25.9632\n",
      "배기량이 5이상인 자동차의 평균 고속도로 연비:18.0789\n"
     ]
    }
   ],
   "source": [
    "# 1. displ(배기량)이 4 이하인 자동차와 5 이상인 자동차 중 어떤 자동차의 hwy(고속도로 연비)가 평균적으로 더 높은지 확인하세요.\n",
    "be4=[]\n",
    "up5=[]\n",
    "for i in result:\n",
    "    if i.m_displ<=4:\n",
    "        be4.append(i.m_hwy)\n",
    "            \n",
    "    elif i.m_displ>=5:\n",
    "        up5.append(i.m_hwy)\n",
    "            \n",
    "b4=sum(be4)/len(be4)\n",
    "u5=sum(up5)/len(up5)\n",
    "\n",
    "print(\"배기량이 4이하인 자동차의 평균 고속도로 연비:{:.4f}\".format(b4))\n",
    "print(\"배기량이 5이상인 자동차의 평균 고속도로 연비:{:.4f}\".format(u5))\n"
   ]
  },
  {
   "cell_type": "code",
   "execution_count": 3,
   "metadata": {},
   "outputs": [
    {
     "name": "stdout",
     "output_type": "stream",
     "text": [
      "아우디의 도시연비:17.6111\n",
      "도요타의 도시연비:18.5294\n"
     ]
    }
   ],
   "source": [
    "# 2. 자동차 제조 회사에 따라 도시 연비가 다른지 알아보려고 한다. \"audi\"와 \"toyota\" 중 어느 manufacturer(제조회사)의 cty(도시 연비)가 평균적으로 더 높은지 확인하세요.\n",
    "audi=[]\n",
    "toyo=[]\n",
    "for i in result:\n",
    "    if i.m_manu ==\"audi\":\n",
    "        audi.append(i.m_cty)\n",
    "    elif i.m_manu == \"toyota\":\n",
    "        toyo.append(i.m_cty)\n",
    "au=sum(audi)/len(audi)\n",
    "to=sum(toyo)/len(toyo)\n",
    "\n",
    "print(\"아우디의 도시연비:{:.4f}\".format(au))\n",
    "print(\"도요타의 도시연비:{:.4f}\".format(to))"
   ]
  },
  {
   "cell_type": "code",
   "execution_count": 4,
   "metadata": {},
   "outputs": [
    {
     "name": "stdout",
     "output_type": "stream",
     "text": [
      "chevrolet, ford, honda 자동차의 고속도로 연비 평균:22.5094\n"
     ]
    }
   ],
   "source": [
    "# 3. \"chevrolet\", \"ford\", \"honda\" 자동차의 고속도로 연비 평균을 알아보려고 한다. 이 회사들의 데이터를 추출한 후 hwy(고속도로 연비) 전체 평균을 구하세요.\n",
    "cfh=[]\n",
    "for i in result:\n",
    "    if i.m_manu ==\"chevrolet\":\n",
    "        cfh.append(i.m_hwy)\n",
    "    elif i.m_manu ==\"ford\":\n",
    "        cfh.append(i.m_hwy)\n",
    "    elif i.m_manu ==\"honda\":\n",
    "        cfh.append(i.m_hwy)\n",
    "avg=sum(cfh)/len(cfh)\n",
    "\n",
    "print(\"chevrolet, ford, honda 자동차의 고속도로 연비 평균:{:.4f}\".format(avg))\n",
    "\n"
   ]
  },
  {
   "cell_type": "code",
   "execution_count": 5,
   "metadata": {
    "scrolled": true
   },
   "outputs": [
    {
     "name": "stdout",
     "output_type": "stream",
     "text": [
      "audi a4 1.8 1999 4 auto(l5) f 18 29 p compact\n",
      "audi a4 1.8 1999 4 manual(m5) f 21 29 p compact\n",
      "audi a4 2.0 2008 4 manual(m6) f 20 31 p compact\n",
      "audi a4 2.0 2008 4 auto(av) f 21 30 p compact\n",
      "audi a4 2.8 1999 6 auto(l5) f 16 26 p compact\n"
     ]
    }
   ],
   "source": [
    "# 4. \"audi\"에서 생산한 자동차 중에 어떤 자동차 모델의 hwy(고속도로 연비)가 높은지 알아보려고 한다. \"audi\"에서 생산한 자동차 중 hwy가 1~5위에 해당하는 자동차의 데이터를 출력하세요.\n",
    "audic=[]\n",
    "for i in result:\n",
    "    if i.m_manu==\"audi\":\n",
    "        audic.append(i)\n",
    "import operator # 정렬을 편하게 하기 위해서 외부 module operator를 사용\n",
    "sorted_audic = sorted(audic, key=operator.attrgetter(\"m_hwy\"),reverse=True) \n",
    "\n",
    "for i in range(5):\n",
    "    audic[i].printd()\n"
   ]
  },
  {
   "cell_type": "code",
   "execution_count": 29,
   "metadata": {},
   "outputs": [
    {
     "name": "stdout",
     "output_type": "stream",
     "text": [
      "['ford', 'pontiac', 'toyota', 'honda', 'audi', 'chevrolet', 'lincoln', 'nissan', 'volkswagen', 'mercury', 'jeep', 'subaru', 'land rover', 'dodge', 'hyundai']\n",
      "회사:subaru,평균연비:21.9\n",
      "회사:toyota,평균연비:16.3\n",
      "회사:nissan,평균연비:15.9\n",
      "회사:mercury,평균연비:15.6\n",
      "회사:jeep,평균연비:15.6\n"
     ]
    }
   ],
   "source": [
    "# 5. mpg 데이터는 연비를 나타내는 변수가 2개입니다. 두 변수를 각각 활용하는 대신 하나의 통합 연비 변수를 만들어 사용하려 합니다. \n",
    "# 평균 연비 변수는 두 연비(고속도로와 도시)의 평균을 이용합니다. \n",
    "# 회사별로 \"suv\" 자동차의 평균 연비를 구한후 내림차순으로 정렬한 후 1~5위까지 데이터를 출력하세요.\n",
    "a=set()\n",
    "for i in result:\n",
    "    a.add(i.m_manu)\n",
    "a=list(a)\n",
    "print(a)\n",
    "\n",
    "\n",
    "\n",
    "suvc=[]\n",
    "for i in result:\n",
    "    if i.m_class==\"suv\":\n",
    "        suvc.append(i)\n",
    "        \n",
    "\n",
    "\n",
    "mylist=list()\n",
    "avg_result=list()\n",
    "for k in a:\n",
    "    mylist=[]\n",
    "    for i in suvc:\n",
    "        if i.m_manu==k:            \n",
    "            mylist.append(i.m_avg)\n",
    "    if len(mylist):\n",
    "        avg_result.append(round(sum(mylist)/len(mylist),1))\n",
    "    else:\n",
    "        avg_result.append(0)\n",
    "\n",
    "\n",
    "\n",
    "\n",
    "mylist2=list()\n",
    "for i in range(len(a)):\n",
    "    mydict={\"manu\":\"\",\"avgmpg\":\"\"}\n",
    "    mydict[\"manu\"]=a[i]\n",
    "    mydict[\"avgmpg\"]=avg_result[i]\n",
    "    mylist2.append(mydict)\n",
    "\n",
    "import operator\n",
    "sorted_result = sorted(mylist2, key=operator.itemgetter(\"avgmpg\"),reverse=True) #class는 attrgetter, dict는 itemgetter\n",
    "\n",
    "for i in range(5):\n",
    "    print(\"회사:{},평균연비:{}\".format(sorted_result[i][\"manu\"],sorted_result[i][\"avgmpg\"]))\n",
    "\n",
    "\n",
    "\n",
    "\n",
    "            \n",
    "        \n"
   ]
  },
  {
   "cell_type": "code",
   "execution_count": 22,
   "metadata": {
    "scrolled": true
   },
   "outputs": [
    {
     "name": "stdout",
     "output_type": "stream",
     "text": [
      "['compact', 'suv', '2seater', 'midsize', 'subcompact', 'pickup', 'minivan']\n",
      "class:subcompact,평균 cty:20.4\n",
      "class:compact,평균 cty:20.1\n",
      "class:midsize,평균 cty:18.8\n",
      "class:minivan,평균 cty:15.8\n",
      "class:2seater,평균 cty:15.4\n",
      "class:suv,평균 cty:13.5\n",
      "class:pickup,평균 cty:13.0\n"
     ]
    }
   ],
   "source": [
    "# 6. mpg 데이터의 class는 \"suv\", \"compact\" 등 자동차의 특징에 따라 일곱 종류로 분류한 변수입니다. \n",
    "#어떤 차종의 도시 연비가 높은지 비교하려 합니다. class별 cty 평균을 구하고 cty 평균이 높은 순으로 정렬해 출력하세요.\n",
    "\n",
    "a=set()\n",
    "for i in result:\n",
    "    a.add(i.m_class)\n",
    "a=list(a)\n",
    "print(a)\n",
    "\n",
    "\n",
    "\n",
    "\n",
    "mylist=list()\n",
    "avg_result=list()\n",
    "for k in a:\n",
    "    mylist=[]\n",
    "    for i in result:\n",
    "        if i.m_class==k:            \n",
    "            mylist.append(i.m_cty)\n",
    "    avg_result.append(round(sum(mylist)/len(mylist),1))\n",
    "\n",
    "\n",
    "\n",
    "mylist2=list()\n",
    "for i in range(len(a)):\n",
    "    mydict={\"class\":\"\",\"cty_avg\":\"\"}\n",
    "    mydict[\"class\"]=a[i]\n",
    "    mydict[\"cty_avg\"]=avg_result[i]\n",
    "    mylist2.append(mydict)\n",
    "\n",
    "import operator\n",
    "sorted_result = sorted(mylist2, key=operator.itemgetter(\"cty_avg\"),reverse=True) #class는 attrgetter, dict는 itemgetter\n",
    "\n",
    "for i in sorted_result:\n",
    "    print(\"class:{},평균 cty:{}\".format(i[\"class\"],i[\"cty_avg\"]))\n",
    "\n"
   ]
  },
  {
   "cell_type": "code",
   "execution_count": 34,
   "metadata": {},
   "outputs": [
    {
     "name": "stdout",
     "output_type": "stream",
     "text": [
      "['ford', 'pontiac', 'toyota', 'honda', 'audi', 'chevrolet', 'lincoln', 'nissan', 'volkswagen', 'mercury', 'jeep', 'subaru', 'land rover', 'dodge', 'hyundai']\n",
      "회사:honda,평균 hwy:32.6\n",
      "회사:volkswagen,평균 hwy:29.2\n",
      "회사:hyundai,평균 hwy:26.9\n"
     ]
    }
   ],
   "source": [
    "# 7. 어떤 회사 자동차의 hwy(고속도로 연비)가 가장 높은지 알아보려 합니다. \n",
    "# hwy(고속도로 연비) 평균이 가장 높은 회사 세 곳을 출력하세요.\n",
    "a=set()\n",
    "for i in result:\n",
    "    a.add(i.m_manu)\n",
    "a=list(a)\n",
    "print(a)\n",
    "\n",
    "\n",
    "\n",
    "mylist=list()\n",
    "avg_result=list()\n",
    "for k in a:\n",
    "    mylist=[]\n",
    "    for i in result:\n",
    "        if i.m_manu==k:            \n",
    "            mylist.append(i.m_hwy)\n",
    "    avg_result.append(round(sum(mylist)/len(mylist),1))\n",
    "\n",
    "\n",
    "\n",
    "mylist2=list()\n",
    "for i in range(len(a)):\n",
    "    mydict={\"manufacturer\":\"\",\"hwy_avg\":\"\"}\n",
    "    mydict[\"manufacturer\"]=a[i]\n",
    "    mydict[\"hwy_avg\"]=avg_result[i]\n",
    "    mylist2.append(mydict)\n",
    "\n",
    "import operator\n",
    "sorted_result = sorted(mylist2, key=operator.itemgetter(\"hwy_avg\"),reverse=True) #class는 attrgetter, dict는 itemgetter\n",
    "\n",
    "for i in range(3):\n",
    "    print(\"회사:{},평균 hwy:{}\".format(sorted_result[i][\"manufacturer\"],sorted_result[i][\"hwy_avg\"]))\n",
    "\n",
    "\n"
   ]
  },
  {
   "cell_type": "code",
   "execution_count": 38,
   "metadata": {},
   "outputs": [
    {
     "name": "stdout",
     "output_type": "stream",
     "text": [
      "['ford', 'pontiac', 'toyota', 'honda', 'audi', 'chevrolet', 'lincoln', 'nissan', 'volkswagen', 'mercury', 'jeep', 'subaru', 'land rover', 'dodge', 'hyundai']\n",
      "회사:audi,compact차종수:15\n",
      "회사:volkswagen,compact차종수:14\n",
      "회사:toyota,compact차종수:12\n",
      "회사:subaru,compact차종수:4\n",
      "회사:nissan,compact차종수:2\n"
     ]
    }
   ],
   "source": [
    "# 8. 어떤 회사에서 \"compact\" 차종을 가장 많이 생산하는지 알아보려고 합니다. \n",
    "#각 회사별 \"compact\" 차종 수를 내림차순으로 정렬해 출력하세요.\n",
    "\n",
    "a=set()\n",
    "for i in result:\n",
    "    a.add(i.m_manu)\n",
    "a=list(a)\n",
    "print(a)\n",
    "\n",
    "compactc=[]\n",
    "for i in result:\n",
    "    if i.m_class==\"compact\":\n",
    "        compactc.append(i)\n",
    "\n",
    "count=0\n",
    "cnt_result=list()\n",
    "for k in a:\n",
    "    count=0\n",
    "    for i in compactc:\n",
    "        if i.m_manu==k:            \n",
    "            count+=1\n",
    "    cnt_result.append(count)\n",
    "\n",
    "\n",
    "\n",
    "mylist2=list()\n",
    "for i in range(len(a)):\n",
    "    mydict={\"manufacturer\":\"\",\"count\":\"\"}\n",
    "    mydict[\"manufacturer\"]=a[i]\n",
    "    mydict[\"count\"]=cnt_result[i]\n",
    "    mylist2.append(mydict)\n",
    "\n",
    "import operator\n",
    "sorted_result = sorted(mylist2, key=operator.itemgetter(\"count\"),reverse=True) #class는 attrgetter, dict는 itemgetter\n",
    "\n",
    "for i in sorted_result:\n",
    "    if i[\"count\"]:\n",
    "        print(\"회사:{},compact차종수:{}\".format(i[\"manufacturer\"],i[\"count\"]))\n"
   ]
  }
 ],
 "metadata": {
  "kernelspec": {
   "display_name": "[CPU_ENV]",
   "language": "python",
   "name": "cpu_env"
  },
  "language_info": {
   "codemirror_mode": {
    "name": "ipython",
    "version": 3
   },
   "file_extension": ".py",
   "mimetype": "text/x-python",
   "name": "python",
   "nbconvert_exporter": "python",
   "pygments_lexer": "ipython3",
   "version": "3.6.9"
  }
 },
 "nbformat": 4,
 "nbformat_minor": 2
}
