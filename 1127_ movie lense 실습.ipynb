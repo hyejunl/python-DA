{
 "cells": [
  {
   "cell_type": "code",
   "execution_count": 1,
   "metadata": {},
   "outputs": [],
   "source": [
    "## movies.csv와 ratings.csv를 이용하여 다음의 문제를 해결하세요~\n",
    "## 1. 사용자가 평가한 모든 영화의 전체 평균 평점\n",
    "## 2. 각 사용자별 평균 평점\n",
    "## 3. 각 영화별 평균 평점\n",
    "## 4. 평균 평점이 가장 높은 영화의 제목 (동률이 있을 경우 모두 출력)\n",
    "## 5. Comedy 영화 중 가장 평점이 낮은 영화의 제목 (동률이 있을 경우 모두 출력)\n",
    "## 6. 2015년도에 평가된 모든 Romance 영화의 평균 평점"
   ]
  },
  {
   "cell_type": "code",
   "execution_count": 2,
   "metadata": {
    "scrolled": true
   },
   "outputs": [],
   "source": [
    "import numpy as np\n",
    "import pandas as pd\n",
    "\n",
    "movie_df = pd.read_csv(\"./data/movies.csv\")\n",
    "rating_df = pd.read_csv(\"./data/ratings.csv\")\n",
    "\n",
    "#movie_df.columns #['movieId', 'title', 'genres']\n",
    "# rating_df.columns #['userId', 'movieId', 'rating', 'timestamp']"
   ]
  },
  {
   "cell_type": "code",
   "execution_count": 3,
   "metadata": {},
   "outputs": [
    {
     "data": {
      "text/plain": [
       "3.501556983616962"
      ]
     },
     "execution_count": 3,
     "metadata": {},
     "output_type": "execute_result"
    }
   ],
   "source": [
    "## 1. 사용자가 평가한 모든 영화의 전체 평균 평점\n",
    "\n",
    "rating_df[\"rating\"].mean()"
   ]
  },
  {
   "cell_type": "code",
   "execution_count": 4,
   "metadata": {},
   "outputs": [
    {
     "data": {
      "text/html": [
       "<div>\n",
       "<style scoped>\n",
       "    .dataframe tbody tr th:only-of-type {\n",
       "        vertical-align: middle;\n",
       "    }\n",
       "\n",
       "    .dataframe tbody tr th {\n",
       "        vertical-align: top;\n",
       "    }\n",
       "\n",
       "    .dataframe thead th {\n",
       "        text-align: right;\n",
       "    }\n",
       "</style>\n",
       "<table border=\"1\" class=\"dataframe\">\n",
       "  <thead>\n",
       "    <tr style=\"text-align: right;\">\n",
       "      <th></th>\n",
       "      <th>rating</th>\n",
       "    </tr>\n",
       "    <tr>\n",
       "      <th>userId</th>\n",
       "      <th></th>\n",
       "    </tr>\n",
       "  </thead>\n",
       "  <tbody>\n",
       "    <tr>\n",
       "      <th>1</th>\n",
       "      <td>4.366379</td>\n",
       "    </tr>\n",
       "    <tr>\n",
       "      <th>2</th>\n",
       "      <td>3.948276</td>\n",
       "    </tr>\n",
       "    <tr>\n",
       "      <th>3</th>\n",
       "      <td>2.435897</td>\n",
       "    </tr>\n",
       "    <tr>\n",
       "      <th>4</th>\n",
       "      <td>3.555556</td>\n",
       "    </tr>\n",
       "    <tr>\n",
       "      <th>5</th>\n",
       "      <td>3.636364</td>\n",
       "    </tr>\n",
       "    <tr>\n",
       "      <th>...</th>\n",
       "      <td>...</td>\n",
       "    </tr>\n",
       "    <tr>\n",
       "      <th>606</th>\n",
       "      <td>3.657399</td>\n",
       "    </tr>\n",
       "    <tr>\n",
       "      <th>607</th>\n",
       "      <td>3.786096</td>\n",
       "    </tr>\n",
       "    <tr>\n",
       "      <th>608</th>\n",
       "      <td>3.134176</td>\n",
       "    </tr>\n",
       "    <tr>\n",
       "      <th>609</th>\n",
       "      <td>3.270270</td>\n",
       "    </tr>\n",
       "    <tr>\n",
       "      <th>610</th>\n",
       "      <td>3.688556</td>\n",
       "    </tr>\n",
       "  </tbody>\n",
       "</table>\n",
       "<p>610 rows × 1 columns</p>\n",
       "</div>"
      ],
      "text/plain": [
       "          rating\n",
       "userId          \n",
       "1       4.366379\n",
       "2       3.948276\n",
       "3       2.435897\n",
       "4       3.555556\n",
       "5       3.636364\n",
       "...          ...\n",
       "606     3.657399\n",
       "607     3.786096\n",
       "608     3.134176\n",
       "609     3.270270\n",
       "610     3.688556\n",
       "\n",
       "[610 rows x 1 columns]"
      ]
     },
     "execution_count": 4,
     "metadata": {},
     "output_type": "execute_result"
    }
   ],
   "source": [
    "## 2. 각 사용자별 평균 평점\n",
    "\n",
    "\n",
    "pd.DataFrame(rating_df[\"rating\"].groupby(rating_df[\"userId\"]).mean())\n",
    "\n"
   ]
  },
  {
   "cell_type": "code",
   "execution_count": 47,
   "metadata": {
    "scrolled": true
   },
   "outputs": [
    {
     "data": {
      "text/html": [
       "<div>\n",
       "<style scoped>\n",
       "    .dataframe tbody tr th:only-of-type {\n",
       "        vertical-align: middle;\n",
       "    }\n",
       "\n",
       "    .dataframe tbody tr th {\n",
       "        vertical-align: top;\n",
       "    }\n",
       "\n",
       "    .dataframe thead th {\n",
       "        text-align: right;\n",
       "    }\n",
       "</style>\n",
       "<table border=\"1\" class=\"dataframe\">\n",
       "  <thead>\n",
       "    <tr style=\"text-align: right;\">\n",
       "      <th></th>\n",
       "      <th>rating</th>\n",
       "    </tr>\n",
       "    <tr>\n",
       "      <th>movieId</th>\n",
       "      <th></th>\n",
       "    </tr>\n",
       "  </thead>\n",
       "  <tbody>\n",
       "    <tr>\n",
       "      <th>1</th>\n",
       "      <td>3.920930</td>\n",
       "    </tr>\n",
       "    <tr>\n",
       "      <th>2</th>\n",
       "      <td>3.431818</td>\n",
       "    </tr>\n",
       "    <tr>\n",
       "      <th>3</th>\n",
       "      <td>3.259615</td>\n",
       "    </tr>\n",
       "    <tr>\n",
       "      <th>4</th>\n",
       "      <td>2.357143</td>\n",
       "    </tr>\n",
       "    <tr>\n",
       "      <th>5</th>\n",
       "      <td>3.071429</td>\n",
       "    </tr>\n",
       "    <tr>\n",
       "      <th>...</th>\n",
       "      <td>...</td>\n",
       "    </tr>\n",
       "    <tr>\n",
       "      <th>193581</th>\n",
       "      <td>4.000000</td>\n",
       "    </tr>\n",
       "    <tr>\n",
       "      <th>193583</th>\n",
       "      <td>3.500000</td>\n",
       "    </tr>\n",
       "    <tr>\n",
       "      <th>193585</th>\n",
       "      <td>3.500000</td>\n",
       "    </tr>\n",
       "    <tr>\n",
       "      <th>193587</th>\n",
       "      <td>3.500000</td>\n",
       "    </tr>\n",
       "    <tr>\n",
       "      <th>193609</th>\n",
       "      <td>4.000000</td>\n",
       "    </tr>\n",
       "  </tbody>\n",
       "</table>\n",
       "<p>9724 rows × 1 columns</p>\n",
       "</div>"
      ],
      "text/plain": [
       "           rating\n",
       "movieId          \n",
       "1        3.920930\n",
       "2        3.431818\n",
       "3        3.259615\n",
       "4        2.357143\n",
       "5        3.071429\n",
       "...           ...\n",
       "193581   4.000000\n",
       "193583   3.500000\n",
       "193585   3.500000\n",
       "193587   3.500000\n",
       "193609   4.000000\n",
       "\n",
       "[9724 rows x 1 columns]"
      ]
     },
     "execution_count": 47,
     "metadata": {},
     "output_type": "execute_result"
    }
   ],
   "source": [
    "## 3. 각 영화별 평균 평점\n",
    "\n",
    "\n",
    "m_rating=pd.DataFrame(rating_df[\"rating\"].groupby(rating_df[\"movieId\"]).mean())\n",
    "\n",
    "\n"
   ]
  },
  {
   "cell_type": "code",
   "execution_count": 58,
   "metadata": {},
   "outputs": [
    {
     "data": {
      "text/plain": [
       "7504    Zeitgeist: Moving Forward (2011)\n",
       "9542         Wow! A Talking Fish! (1983)\n",
       "9271               World of Glory (1991)\n",
       "8337                 Wonder Woman (2009)\n",
       "9693    Won't You Be My Neighbor? (2018)\n",
       "                      ...               \n",
       "5626                          61* (2001)\n",
       "3888    20 Million Miles to Earth (1957)\n",
       "9028                    12 Chairs (1976)\n",
       "7315                 12 Angry Men (1997)\n",
       "5677                 'Salem's Lot (2004)\n",
       "Name: title, Length: 296, dtype: object"
      ]
     },
     "execution_count": 58,
     "metadata": {},
     "output_type": "execute_result"
    }
   ],
   "source": [
    "## 4. 평균 평점이 가장 높은 영화의 제목 내림차순으로 정렬해서 출력(동률이 있을 경우 모두 출력)\n",
    "\n",
    "df4 = pd.merge(m_rating,movie_df, on=\"movieId\", how=\"left\")\n",
    "\n",
    "df4.loc[df4[\"rating\"]==df4[\"rating\"].max(),\"title\"].sort_values(ascending=False)"
   ]
  },
  {
   "cell_type": "code",
   "execution_count": 57,
   "metadata": {},
   "outputs": [
    {
     "data": {
      "text/plain": [
       "8875                                         Aloha (2015)\n",
       "5763                             Are We There Yet? (2005)\n",
       "7744                              Arthur Christmas (2011)\n",
       "9401                                   Bad Santa 2 (2016)\n",
       "4433                               Born to Be Wild (1995)\n",
       "5398    Boudu Saved From Drowning (Boudu sauvé des eau...\n",
       "6537                         Brothers Solomon, The (2007)\n",
       "5440           Carabineers, The (Carabiniers, Les) (1963)\n",
       "6528                                Daddy Day Camp (2007)\n",
       "4872                              Follow Me, Boys! (1966)\n",
       "7536                         Hard Ticket to Hawaii (1987)\n",
       "8399                            Haunted House 2, A (2014)\n",
       "5649                   Jesus Christ Vampire Hunter (2001)\n",
       "8966                   Joe Dirt 2: Beautiful Loser (2015)\n",
       "7802              Journey 2: The Mysterious Island (2012)\n",
       "6143                        Leprechaun 4: In Space (1997)\n",
       "8230    Maria Bamford: The Special Special Special! (2...\n",
       "7184                                      Old Dogs (2009)\n",
       "9038                              Saving Christmas (2014)\n",
       "5248                                Secret Society (2002)\n",
       "9572                               The Emoji Movie (2017)\n",
       "8890                 The Star Wars Holiday Special (1978)\n",
       "8658                                 Tooth Fairy 2 (2012)\n",
       "5781                                    Uncle Nino (2003)\n",
       "6767                             Zombie Strippers! (2008)\n",
       "Name: title, dtype: object"
      ]
     },
     "execution_count": 57,
     "metadata": {},
     "output_type": "execute_result"
    }
   ],
   "source": [
    "## 5. Comedy 영화 중 가장 평점이 낮은 영화의 제목을 오름차순으로 출력 (동률이 있을 경우 모두 출력)\n",
    "\n",
    "\n",
    "func = lambda x: str(x).count(\"Comedy\")\n",
    "\n",
    "Comedy_df = df4.loc[df4[\"genres\"].apply(func)==1]\n",
    "Comedy_df.loc[Comedy_df[\"rating\"]==Comedy_df[\"rating\"].min(),\"title\"].sort_values()\n",
    "\n",
    "\n",
    "\n",
    "\n"
   ]
  },
  {
   "cell_type": "code",
   "execution_count": 99,
   "metadata": {},
   "outputs": [
    {
     "data": {
      "text/plain": [
       "3.396375098502758"
      ]
     },
     "execution_count": 99,
     "metadata": {},
     "output_type": "execute_result"
    }
   ],
   "source": [
    "## 6. 2015년도에 평가된 모든 Romance 영화의 평균 평점\n",
    "# import datetime\n",
    "# now = '1442154124'\n",
    "# _date = datetime.datetime.fromtimestamp(int(now)).strftime('%Y-%m-%d %H:%M:%S')\n",
    "# print(_date)\n",
    "\n",
    "import datetime\n",
    "func1 = lambda x : datetime.datetime.fromtimestamp(x).strftime('%Y-%m-%d %H:%M:%S').count(\"2015\")\n",
    "rating_15 = rating_df.loc[rating_df[\"timestamp\"].apply(func1)==1]\n",
    "\n",
    "\n",
    "final_df = pd.merge(rating_15,movie_df,on=\"movieId\",how=\"left\")\n",
    "\n",
    "func = lambda x: str(x).count(\"Romance\")\n",
    "final_df.loc[final_df[\"genres\"].apply(func)==1,\"rating\"].mean()"
   ]
  }
 ],
 "metadata": {
  "kernelspec": {
   "display_name": "[CPU_ENV]",
   "language": "python",
   "name": "cpu_env"
  },
  "language_info": {
   "codemirror_mode": {
    "name": "ipython",
    "version": 3
   },
   "file_extension": ".py",
   "mimetype": "text/x-python",
   "name": "python",
   "nbconvert_exporter": "python",
   "pygments_lexer": "ipython3",
   "version": "3.6.9"
  }
 },
 "nbformat": 4,
 "nbformat_minor": 2
}
