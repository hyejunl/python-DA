{
 "cells": [
  {
   "cell_type": "code",
   "execution_count": 14,
   "metadata": {},
   "outputs": [
    {
     "name": "stdout",
     "output_type": "stream",
     "text": [
      "100 200 300\n",
      "입력받은 값은:100 200 300\n",
      "최종결과는 600\n"
     ]
    }
   ],
   "source": [
    "## function (함수)\n",
    "\n",
    "# a = [1,2,3,4]\n",
    "\n",
    "# mySum=0\n",
    "# for i in a:\n",
    "#     mySum +=i\n",
    "# print(mySum)\n",
    "\n",
    "# mySum2=sum(a) #python의 내장함수를 이용해서 처리\n",
    "# print(mySum2)\n",
    "\n",
    "################################################\n",
    "## 숫자를 입력받아서       => 단위기능으로 간주 => 함수\n",
    "## 해당숫자를 모두 더한후  => 단위기능으로 간주 => 함수\n",
    "## \"결과값은 : xx입니다.\" 형식으로 출력 =>함수\n",
    "# 기능단위로 코드를 따로따로 만들어서 결합해서 쓴다. \n",
    "\n",
    "## 이렇게 함수기반의 프로그래밍 방식을 \n",
    "## 절차적 프로그래밍(procedural programming)\n",
    "\n",
    "## python에서 함수는 크게 2가지로 구분\n",
    "## 내장함수(sum()), 사용자 정의함수(user define 함수)\n",
    "## 사용자 정의함수를 만드는 keyword는 def\n",
    "\n",
    "## 함수이름은 소문자로 시작(관용적으로)\n",
    "## 함수의 정의(definition) => 함수의 이름, 인자형태, 인자의 개수 + 기능구현\n",
    "## 함수의 선언(declaration) => 함수의 이름, 인자형태, 인자의 개수\n",
    "def mySum(a,b,c):\n",
    "    # 함수의 기능을 구현해요!\n",
    "    total = a + b + c\n",
    "    return total #함수를 호출한 곳으로 값을 돌려줄거야\n",
    "\n",
    "inputValue = input() #입력받는 내장함수, 무조건 str로 받아요\n",
    "#\"100 200 300\"\n",
    "# 숫자 3개를 받아보아요! (100 200 300 이렇게 space를 기준으로 나눠서 입력)\n",
    "print(\"입력받은 값은:{}\".format(inputValue))\n",
    "var1 = inputValue.split(\" \") #무엇을 기준으로 분리할건지를 () 안에 넣어준다\n",
    "#split은 값을 분리해서 list로 리턴\n",
    "\n",
    "\n",
    "result = mySum(int(var1[0]),int(var1[1]),int(var1[2]))\n",
    "\n",
    "print(\"최종결과는 {}\".format(result))\n"
   ]
  },
  {
   "cell_type": "code",
   "execution_count": 17,
   "metadata": {},
   "outputs": [
    {
     "name": "stdout",
     "output_type": "stream",
     "text": [
      "최종결과는:100\n",
      "최종결과는:220\n"
     ]
    }
   ],
   "source": [
    "## 함수 2번째\n",
    "\n",
    "def mySum2(*args): # args가 tuple로 간주\n",
    "                    # args => (10,20,30,40)\n",
    "    # 전달받은 모든 값들을 더해서 리턴\n",
    "    # * 입력의 갯수를 상관하지 않겠어\n",
    "    k=0\n",
    "    for i in range(len(args)):\n",
    "        k += args[i] #튜플 args의 i번째\n",
    "    return k\n",
    "        \n",
    "    \n",
    "total = mySum2(10,20,30,40)\n",
    "print(\"최종결과는:{}\".format(total))\n",
    "\n",
    "total = mySum2(30,40,60,90)\n",
    "print(\"최종결과는:{}\".format(total))\n"
   ]
  },
  {
   "cell_type": "code",
   "execution_count": 21,
   "metadata": {},
   "outputs": [
    {
     "name": "stdout",
     "output_type": "stream",
     "text": [
      "300\n"
     ]
    }
   ],
   "source": [
    "## 함수를 하나 정의해요\n",
    "## 숫자 2개 받아서 두개의 합과 두개의 곱을 리턴할거에요!\n",
    "\n",
    "## tuple을 이용해서 마치 여러개의 값이 리턴되는 것처럼 사용할 수 있어요!\n",
    "a = (10,20,30)\n",
    "b = 10,20,30 #튜플은 ()괄호를 생략할 수 있다\n",
    "def multi_process(x,y):\n",
    "    result1 = x+y\n",
    "    result2 = x*y\n",
    "    return result1,result2 # (result1,result2)인 튜플과 같다 => 튜플에 넣어서 하나로 return됨\n",
    "\n",
    "a,b = multi_process(100,200) #튜플 a와 b에 result1과 result2가 각각 assign됨\n",
    "print(a)"
   ]
  },
  {
   "cell_type": "code",
   "execution_count": 23,
   "metadata": {},
   "outputs": [
    {
     "name": "stdout",
     "output_type": "stream",
     "text": [
      "6\n",
      "103\n"
     ]
    }
   ],
   "source": [
    "## 사용자 정의 함수를 만들어요!\n",
    "## default parameter\n",
    "\n",
    "def mySum(a,b,c=100): #마지막값이 안들어올수도 있는데 값이 안들어오면 default값인 100을 쓰겠다\n",
    "                      #맨 마지막 값만 default parameter를 줄 수 있다\n",
    "    return a+b+c\n",
    "    \n",
    "total = mySum(1,2,3) #6  \n",
    "print(total)\n",
    "\n",
    "total = mySum(1,2) #103 #마지막 인자에 값이 안 들어오면 default인 100으로 계산됨\n",
    "print(total)"
   ]
  },
  {
   "cell_type": "code",
   "execution_count": 27,
   "metadata": {},
   "outputs": [
    {
     "name": "stdout",
     "output_type": "stream",
     "text": [
      "30\n",
      "30\n"
     ]
    }
   ],
   "source": [
    "tmp = 100      # global variable \n",
    "\n",
    "def myFunc(x): # 함수안에서의 변수는 \n",
    "               # local variable(지역변수)\n",
    "               # local variable은 함수가 호출될때 생성되고\n",
    "               # 함수 수행이 끝나면 없어져요!\n",
    "    tmp =10\n",
    "    tmp += x\n",
    "    return tmp\n",
    "\n",
    "print(myFunc(20)) #30\n",
    "print(tmp) #100 \n",
    "\n",
    "#################################################################\n",
    "tmp = 100 \n",
    "def myFunc(x): # 함수안에서의 변수는 \n",
    "               # local variable(지역변수)\n",
    "               # local variable은 함수가 호출될때 생성되고\n",
    "               # 함수 수행이 끝나면 없어져요!\n",
    "    global tmp  # tmp를 global에서 찾아서 사용할거에요! 하지만 이렇게 하면 코드를 재사용하기 어렵다\n",
    "                 #  왠만하면 사용하지 마세요!!\n",
    "    tmp =10\n",
    "    tmp += x\n",
    "    return tmp\n",
    "\n",
    "print(myFunc(20)) #30\n",
    "print(tmp) #30"
   ]
  },
  {
   "cell_type": "code",
   "execution_count": 38,
   "metadata": {},
   "outputs": [
    {
     "name": "stdout",
     "output_type": "stream",
     "text": [
      "10\n",
      "<class 'dict'>\n",
      "False\n",
      "True\n",
      "5\n",
      "1\n",
      "3.0\n",
      "이것은 소리없는 아우성\n",
      "이것은-소리없는-아우성\n"
     ]
    }
   ],
   "source": [
    "### 사용자 정의 함수는 위에서 설명한 그 방식대로 이용하면 되요!!\n",
    "### 프로그램을 작성할 때 함수는 어떻게 정의해서 사용할 것인가를 고민해서 작성\n",
    "\n",
    "### 나머지는 내장함수에요. python이 제공해주는 함수\n",
    "### int() : 인자로 들어온 놈을 정수로 변환\n",
    "### abs() : 절대값을 리턴하는 함수\n",
    "print(abs(-10))\n",
    "### all() : 인자로 반복가능한 타입이 와야해요! (리스트,튜플,문자열,set)\n",
    "###         인자로 들어온 값이 모두 True일 경우 True리턴 \n",
    "a = [True, {}, 100, 3.14]\n",
    "print(type({})) #dict\n",
    "print(all(a)) #False\n",
    "### any() : 인자로 반복가능한 타입이 와야해요! (리스트, 튜플,문자열,set)\n",
    "###         인자로 들어온 값중 True가 있으면 True 리턴\n",
    "a = [True, {}, 100, 3.14]\n",
    "print(any(a)) #True\n",
    "### len() : 길이구하는 내장 함수 (리스트, 튜플, 문자열, dict)\n",
    "### list() : 리스트 만들어주는 함수\n",
    "### tuble() : 튜플로 변환하는 함수\n",
    "### str() : 문자열로 변환하는 함수\n",
    "### type() : 인자로 들어온 값의 데이터의 type을 return\n",
    "### max() : 최대\n",
    "### min() : 최소\n",
    "a = [1,2,3,4,5]\n",
    "print(max(a))\n",
    "print(min(a))\n",
    "print(sum(a)/len(a)) #list안의 숫자들의 평균 구하기\n",
    "# sorted() : 오름차순으로 정렬해주는 함수\n",
    "a = [\"이것은\",\"소리없는\",\"아우성\"]\n",
    "# \"이것은 소리없는 아우성\"\n",
    "# join() : 기준.join(결합할 아이) \n",
    "print(\" \".join(a)) # a를 \" \"을 사이사이에 넣어서 결합해\n",
    "print(\"-\".join(a))\n",
    "################# 함수에 대한 설명!! !##################"
   ]
  }
 ],
 "metadata": {
  "kernelspec": {
   "display_name": "[CPU_ENV]",
   "language": "python",
   "name": "cpu_env"
  },
  "language_info": {
   "codemirror_mode": {
    "name": "ipython",
    "version": 3
   },
   "file_extension": ".py",
   "mimetype": "text/x-python",
   "name": "python",
   "nbconvert_exporter": "python",
   "pygments_lexer": "ipython3",
   "version": "3.6.9"
  }
 },
 "nbformat": 4,
 "nbformat_minor": 2
}
