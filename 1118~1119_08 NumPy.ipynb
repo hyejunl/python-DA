{
 "cells": [
  {
   "cell_type": "code",
   "execution_count": 1,
   "metadata": {},
   "outputs": [],
   "source": [
    "## NumPy (Numerical Python)\n",
    "## 수학적 계산을 할 때, 수치연산을 할 때 사용되요\n",
    "## 마치 R의 Vector를 사용하는 것처럼 NumPy를 이용할 수 있어요!\n",
    "## Vector연산, Matrix연산을 빠르고 효율적으로 처리할 수 있어요\n",
    "\n",
    "## Pandas, Matplotlib의 기본 module이 NumPy\n",
    "\n",
    "## NumPy module은 ndarray (n-dimensional array) **n차원의 배열**라고 불리는 자료구조를 이용해요\n",
    "## => R에서 Vector와 유사\n",
    "## R의 vector자료구조는 같은 데이터 타입을 저장하는 자료구조\n",
    "## ndarray도 같은 데이터 타입만 저장이 가능\n",
    "\n",
    "## NumPy의 ndarray를 이용하려면 NumPy module이 설치되어 있어야 해요!\n",
    "## module을 설치할 때 아나콘다 프롬프트에서 conda 명령을 이용해서 설치\n",
    "## python은 pip를 이용해서 module을 설치\n",
    "## 'conda install numpy'를 아나콘다 프롬프트에 입력해서 numpy 모듈 설치\n"
   ]
  },
  {
   "cell_type": "code",
   "execution_count": 24,
   "metadata": {
    "scrolled": true
   },
   "outputs": [
    {
     "name": "stdout",
     "output_type": "stream",
     "text": [
      "list=>[1, 2, 3, 4],type=><class 'list'>\n",
      "list[0]=>1,type=><class 'int'>\n",
      "ndarray=>[1 2 3 4]\n",
      "ndarray type=><class 'numpy.ndarray'>\n",
      "ndarray dtype=>int32\n",
      "4294967296\n",
      "18446744073709551616\n",
      "['100' 'Hello' '3.14']\n",
      "<U11\n",
      "<class 'numpy.str_'>\n"
     ]
    }
   ],
   "source": [
    "import numpy as np\n",
    "\n",
    "## ndarray를 생성하고 data type을 살펴보아요!\n",
    "\n",
    "## python list\n",
    "a = [1,2,3,4]\n",
    "print(\"list=>{},type=>{}\".format(a,type(a)))   #list=>[1, 2, 3, 4],type=><class 'list'>\n",
    "print(\"list[0]=>{},type=>{}\".format(a[0],type(a[0])))\n",
    "\n",
    "## NumPy ndarray\n",
    "b = np.array([1,2,3,4]) #np모듈의 array함수를 이용하겠다(리스트를 넣을수도 있고, 튜플을 넣을 수도 있다)\n",
    "print(\"ndarray=>{}\".format(b)) #ndarray=>[1 2 3 4]   리스트와 생김새가 다름\n",
    "print(\"ndarray type=>{}\".format(type(b))) #ndarray type=><class 'numpy.ndarray'> numpy모듈의 객체\n",
    "print(\"ndarray dtype=>{}\".format(b.dtype)) #ndarray의 데이터 타입 : b.dtype \n",
    "## int32 => 정수형이고 32bit로 구성되어 있어요! (-21억에서 +21까지)\n",
    "## 2진수로 32개의 비트로 표현할 수 있는 최대 수 \n",
    "## 2진수 1개로 표현할 수 있는 수는 2 => 2**1\n",
    "## 2진수 2개로 표현할 수 있는 수는 4 => 2**2\n",
    "## 2진수 3개로 표현할 수 있는 수는 8 => 2**3\n",
    "## 2진수 32개로 표현할 수 있는 수는 8 => 2**32\n",
    "print(2**32)\n",
    "## int64를 이용하면 더 큰 수를 표현할 수 있어요!\n",
    "## 2진수 64개로 표현할 수 있는 수는 8 => 2**64\n",
    "print(2**64)\n",
    "\n",
    "## ndarray를 만드는 가장 간단한 방법 => \n",
    "## numpy가 제공하는 array()함수 이용\n",
    "c = np.array([100,\"Hello\",3.14]) #이러면 안된다. 우선순위에 따라 data type이 맞춰짐\n",
    "print(c) #['100' 'Hello' '3.14'] 모두 같은 datatype으로 맞춰짐\n",
    "## 문자열 -> complex -> float -> int -> boolean\n",
    "print(c.dtype) #<U11 : 유니코드 문자열이야\n",
    "print(type(c[0])) #<class 'numpy.str_'>\n"
   ]
  },
  {
   "cell_type": "code",
   "execution_count": 40,
   "metadata": {
    "scrolled": true
   },
   "outputs": [
    {
     "name": "stdout",
     "output_type": "stream",
     "text": [
      "[[1 2 3]\n",
      " [4 5 6]]\n",
      "6\n",
      "1\n",
      "int32\n",
      "int64\n",
      "float64\n",
      "[[1. 2. 3.]\n",
      " [4. 5. 6.]]\n"
     ]
    }
   ],
   "source": [
    "## 다차원 numpy array를 만들어보아요!\n",
    "# myList = [(1,2,3),(4,5,6)]\n",
    "myList = [[1,2,3],[4,5,6]] #리스트안의 리스트, 리스트안의 튜플 등으로 2차원으로 만들고 np.array에 넣기\n",
    "arr = np.array(myList) # 2차원의 ndarray\n",
    "\n",
    "print(arr) # 행과 열의 2차원 형태 \n",
    "## 1행 2열의 값은 얼마일까요? (index가 0행0열부터 시작)=> 6\n",
    "print(arr[1,2]) # ,단위로 구분해서 앞이 행 뒤가 열  # arr[1][2] 이형태로 쓰지 않아요!!\n",
    "print(arr[0,0]) #1\n",
    "## index의 시작은 0부터 시작해요!!\n",
    "## n차원의 ndarray가 어떻게 표현되는지 확인해야 해요!\n",
    "## 기본 데이터타입은 정수일 경우 int32로 사용되요!\n",
    "print(arr.dtype) #int32\n",
    "## 만약 데이터타입을 지정하려면\n",
    "arr = np.array(myList,dtype=\"int64\") #데이터타입을 이렇게 바꿔줄수도 있다. 하지만 그다지 좋은 방법은 아님\n",
    "print(arr.dtype)\n",
    "arr = np.array(myList,dtype=np.float64) #이렇게 사용해요!\n",
    "print(arr.dtype)\n",
    "print(arr) #실수형으로 바꿨기 때문에 실수형으로 출력됨\n"
   ]
  },
  {
   "cell_type": "code",
   "execution_count": 50,
   "metadata": {},
   "outputs": [
    {
     "name": "stdout",
     "output_type": "stream",
     "text": [
      "3\n",
      "(2, 2, 2)\n",
      "[[[1 2]\n",
      "  [3 4]]\n",
      "\n",
      " [[5 6]\n",
      "  [7 8]]]\n"
     ]
    }
   ],
   "source": [
    "## 차원의 개수와 크기 \n",
    "# myList = [1,2,3,4]\n",
    "# myList = [[1,2,3],[4,5,6]]\n",
    "# myList = [[1,2],[3,4],[5,6],[7,8]]  # shape은 (4,2)\n",
    "myList = [[[1,2],[3,4]],[[5,6],[7,8]]] # shape는 (2,2,2) 2면 2행 2열\n",
    "arr = np.array(myList) #python list를 이용해서 numpy array생성\n",
    "## 이렇게 numpy array를 생성하면 차원의 개수를 알 수 있어요!\n",
    "# print(arr.ndim) #arr 몇차원이야? => 1 # 차원의 개수를 알려주는 속성\n",
    "print(arr.ndim) #arr 몇차원이야? => 2 \n",
    "## 차원의 개수와 원소개수를 동시에 알려주는 속성\n",
    "# print(arr.shape) # (4,) # 1차원이고 원소 4개있다\n",
    "# print(arr)\n",
    "print(arr.shape) # (2,3) # 2차원이고 2행 3열이다\n",
    "print(arr)\n",
    "## 1차원 => 열 \n",
    "## 2차원 => 행, 열\n",
    "## 3차원 => 면, 행, 열\n",
    "\n"
   ]
  },
  {
   "cell_type": "code",
   "execution_count": 66,
   "metadata": {},
   "outputs": [
    {
     "name": "stdout",
     "output_type": "stream",
     "text": [
      "ndarray의 차원의 수는: 2\n",
      "ndarray의 shape : (2, 3)\n",
      "ndarray의 요소개수 : 6\n",
      "ndarray의 len() : 2\n",
      "ndarray의 차원의 수는: 1\n",
      "ndarray의 shape : (12,)\n",
      "ndarray의 요소개수 : 12\n",
      "ndarray의 len() : 12\n",
      "[[ 1  2  3  4]\n",
      " [ 5  6  7  8]\n",
      " [ 9 10 11 12]]\n",
      "[[[ 1  2  3]\n",
      "  [ 4  5  6]]\n",
      "\n",
      " [[ 7  8  9]\n",
      "  [10 11 12]]]\n",
      "[[[ 1  2  3]\n",
      "  [ 4  5  6]]\n",
      "\n",
      " [[ 7  8  9]\n",
      "  [10 11 12]]]\n",
      "[[[[ 1  2  3]\n",
      "   [ 4  5  6]]]\n",
      "\n",
      "\n",
      " [[[ 7  8  9]\n",
      "   [10 11 12]]]]\n"
     ]
    }
   ],
   "source": [
    "# numpy array 차원 제어\n",
    "\n",
    "# myList = [1,2,3,4]\n",
    "myList = [[1,2,3],[4,5,6]]\n",
    "arr = np.array(myList) #numpy array 생성 (ndarray)\n",
    "# 차원의 수를 알아보아요!\n",
    "print(\"ndarray의 차원의 수는: {}\".format(arr.ndim))\n",
    "# 차원의 수와 각 차원의 원소의 개수\n",
    "print(\"ndarray의 shape : {}\".format(arr.shape)) # ndarray의 shape (4,)\n",
    "# ndarray의 차원에 상관없이 모든 요소의 개수\n",
    "print(\"ndarray의 요소개수 : {}\".format(arr.size))\n",
    "# python의 len()함수는 ndarray에 대해 적용하면 1차원의 요소개수를 리턴\n",
    "print(\"ndarray의 len() : {}\".format(len(arr))) #ndarray의 len() : 4 # 1차원에는 요소 개수가 되지만 2차원부터 안됨\n",
    "\n",
    "myList = [1,2,3,4,5,6,7,8,9,10,11,12]\n",
    "arr = np.array(myList) #numpy array 생성 (ndarray)\n",
    "# 차원의 수를 알아보아요!\n",
    "print(\"ndarray의 차원의 수는: {}\".format(arr.ndim))\n",
    "# 차원의 수와 각 차원의 원소의 개수\n",
    "print(\"ndarray의 shape : {}\".format(arr.shape)) # ndarray의 shape (4,)\n",
    "# ndarray의 차원에 상관없이 모든 요소의 개수\n",
    "print(\"ndarray의 요소개수 : {}\".format(arr.size))\n",
    "# python의 len()함수는 ndarray에 대해 적용하면 1차원의 요소개수를 리턴\n",
    "print(\"ndarray의 len() : {}\".format(len(arr))) #ndarray의 len() : 4 # 1차원에는 요소 개수가 되지만 2차원부터 안됨\n",
    "\n",
    "# shape을 변경할 수 있어요!\n",
    "arr.shape = (3,4) #shape을 바꾸면 해당 shape에 맞춰서 배열이 바뀜\n",
    "print(arr)\n",
    "\n",
    "arr.shape = (2,2,3) # 2면 2행 3열\n",
    "print(arr)\n",
    "\n",
    "arr.shape = 2,2,3 # tuple은 ()를 생략할 수 있어요!\n",
    "print(arr)\n",
    "\n",
    "arr.shape = 2,1,2,3  # 4차원\n",
    "print(arr)\n",
    "\n",
    "## 이렇게 shape을 변경할 수 있는데\n",
    "## arr.shape를 직접 바꾸는 방식은 잘 사용되지 않아요!\n",
    "## 다른 방식이 있어요! reshape() 함수를 이용해요!\n"
   ]
  },
  {
   "cell_type": "code",
   "execution_count": 70,
   "metadata": {},
   "outputs": [
    {
     "name": "stdout",
     "output_type": "stream",
     "text": [
      "dtype : float64\n",
      "[ 1.1   3.14  2.   44.    3.99]\n",
      "[ 1  3  2 44  3]\n"
     ]
    }
   ],
   "source": [
    "## numpy array의 type 변경\n",
    "arr = np.array([1.1,3.14,2,44.0,3.99]) \n",
    "print(\"dtype : {}\".format(arr.dtype)) #float64\n",
    "print(arr) #[ 1.1   3.14  2.   44.    3.99] 실수형으로 전부 바뀌게 됨\n",
    "\n",
    "## ndarray의 데이터 타입을 다른 형식으로 변경할 수 있어요!\n",
    "int_arr = arr.astype(np.int32) \n",
    "print(int_arr) #[ 1  3  2 44  3] 실수를 정수로 변환할때 무조건 소수점 이하 버림처리"
   ]
  },
  {
   "cell_type": "code",
   "execution_count": 86,
   "metadata": {},
   "outputs": [
    {
     "name": "stdout",
     "output_type": "stream",
     "text": [
      "[[0. 0. 0. 0.]\n",
      " [0. 0. 0. 0.]\n",
      " [0. 0. 0. 0.]]\n",
      "[[1 1 1 1]\n",
      " [1 1 1 1]]\n",
      "[[ 9.58843609e-312  9.58804717e-312  1.21046083e-321              nan\n",
      "   1.16096346e-028  1.04857803e-142  1.16467185e-028]\n",
      " [ 4.83245961e+276 -2.65991286e+215 -1.09039117e-265  1.31746016e+136\n",
      "   4.83245961e+276  2.16209963e+233  1.05147407e-153]\n",
      " [ 9.27777395e+242 -6.98384445e+212 -1.75091655e-170  1.60819514e+136\n",
      "   4.83245961e+276  6.17149919e-114  8.77951578e+223]\n",
      " [-1.54519411e-164 -1.15113939e-228 -2.01651033e+210  8.77951136e+223\n",
      "  -1.54519411e-164  1.27919412e-152  4.07176089e+223]\n",
      " [-3.41774545e+214 -2.57966689e-275  1.17113183e-151  1.43623405e+161\n",
      "   1.17504736e-151  1.94853836e-153  2.58125562e-306]]\n",
      "[[9. 9. 9. 9.]\n",
      " [9. 9. 9. 9.]\n",
      " [9. 9. 9. 9.]]\n",
      "[[1 2 3]\n",
      " [4 5 6]]\n",
      "[[1. 1. 1.]\n",
      " [1. 1. 1.]]\n"
     ]
    }
   ],
   "source": [
    "### numpy array를 생성하는 다양한 방법\n",
    "arr = np.array([1,2,3,4]) # 리스트를 이용해서 ndarray를 생성\n",
    "\n",
    "## 모든 원소의 값이 0인 ndarray를 원하는 shape으로 생성\n",
    "arr = np.zeros ((3,4)) # (3,4) shape 형태로 원소의 값이 0인 ndarray를 생성 \n",
    "print(arr)\n",
    "\n",
    "## 모든 원소의 값이 1인 ndarray를 원하는 shape으로 생성\n",
    "arr = np.ones ((2,4),dtype=np.int32) #이렇게 하면 dtype을 정수로 만들 수 있다\n",
    "print(arr)\n",
    "\n",
    "## numpy array의 공간만 확보할 수 있어요!\n",
    "## 초기화를 하지 않아요!\n",
    "arr = np.empty ((5,7)) \n",
    "print(arr)\n",
    "## ones나 zeros는 초기화 작업이 추가적으로 진행\n",
    "## array의 크기가 커지면 속도가 저하.\n",
    "arr = np.full((3,4),9,dtype=np.float64) #임의의 값으로 초기화를 진행\n",
    "print(arr)\n",
    "\n",
    "arr = np.array([(1,2,3),(4,5,6)]) #2행 3열짜리 ndarray\n",
    "print(arr)\n",
    "\n",
    "# 위에서 설명한 ones, zeros, full, empty와 같은 역할을 하면서 shape이 지정한 array와 같도록 만드는 함수\n",
    "arr_like = np.ones_like(arr,dtype=np.float64)\n",
    "print(arr_like)"
   ]
  },
  {
   "cell_type": "code",
   "execution_count": 90,
   "metadata": {},
   "outputs": [
    {
     "name": "stdout",
     "output_type": "stream",
     "text": [
      "[0.1 1.1 2.1 3.1 4.1 5.1]\n"
     ]
    }
   ],
   "source": [
    "## ndarray를 만드는 다양한 방법 - arange\n",
    "## python의 range()와 유사한 기능을 해요!\n",
    "\n",
    "# arr = np.arange(0,10,2) #0부터 10까지 2씩 증가 (0은 포함, 10은 미포함)\n",
    "# arr = np.arange(10) #[0 1 2 3 4 5 6 7 8 9] \n",
    "arr = np.arange(0.1,5.3) #[0.1 1.1 2.1 3.1 4.1 5.1] # 0.1부터 시작, 5.3은 불포함, 1씩 증가\n",
    "print(arr) #[0 2 4 6 8]\n",
    "\n"
   ]
  },
  {
   "cell_type": "code",
   "execution_count": 102,
   "metadata": {},
   "outputs": [
    {
     "name": "stdout",
     "output_type": "stream",
     "text": [
      "[ 0.  1.  2.  3.  4.  5.  6.  7.  8.  9. 10.]\n"
     ]
    },
    {
     "data": {
      "image/png": "[encoded data removed]",
      "text/plain": [
       "<Figure size 432x288 with 1 Axes>"
      ]
     },
     "metadata": {
      "needs_background": "light"
     },
     "output_type": "display_data"
    }
   ],
   "source": [
    "## ndarray를 만드는 다양한 방법 - linspace\n",
    "## np.linspace(start,stop,num) \n",
    "## start부터 stop까지의 범위에서 num개를 균일한 간격으로 데이터를 생성하고 ndarray로 return\n",
    "## 눈으로 보기 힘드니 그래프로 보아요!!\n",
    "## char를 그리는 대표적인 package가 있어요 => matplotlib\n",
    "## conda install matplotlib => 일단 설치\n",
    "\n",
    "import matplotlib.pyplot as plt #matplotlib 패키지 안의 pyplot이라는 모듈 사용\n",
    "arr = np.linspace(0,10,11) # 0포함 10 포함 11개의 데이터 (균등한 간격으로)\n",
    "print(arr) #[ 0.  1.  2.  3.  4.  5.  6.  7.  8.  9. 10.]\n",
    "plt.plot(arr)\n",
    "plt.show()"
   ]
  },
  {
   "cell_type": "code",
   "execution_count": 108,
   "metadata": {
    "scrolled": true
   },
   "outputs": [
    {
     "name": "stdout",
     "output_type": "stream",
     "text": [
      "[51.03944078 47.07541991 51.4313266  ... 53.14157189 52.85894433\n",
      " 52.95674749]\n"
     ]
    },
    {
     "data": {
      "image/png": "[encoded data removed]",
      "text/plain": [
       "<Figure size 432x288 with 1 Axes>"
      ]
     },
     "metadata": {
      "needs_background": "light"
     },
     "output_type": "display_data"
    }
   ],
   "source": [
    "### NumPy Array (ndarray)\n",
    "## 특징,여러가지 속성들(ndim,shape,..)\n",
    "## ndarray 생성방법\n",
    "\n",
    "## 난수를 이용해서 ndarray를 생성하는 방법\n",
    "## 5가지 정도가 존재\n",
    "\n",
    "## np.random.normal() : 난수를 생성해서 ndarray를 만들 수 있어요\n",
    "## ==> 정규분포 확률밀도에서 난수를 발생시켜요!\n",
    "import numpy as np\n",
    "import matplotlib.pyplot as plt\n",
    "\n",
    "\n",
    "## 평균\n",
    "myMean = 50\n",
    "## 표준편차\n",
    "myStd = 2\n",
    "arr = np.random.normal(myMean,myStd,(10000,)) # shape를 tuple형태로 만들어줌\n",
    "print(arr)\n",
    "plt.hist(arr,bins=100) #bins= 몇개의 구간??\n",
    "plt.show()\n",
    "\n"
   ]
  },
  {
   "cell_type": "code",
   "execution_count": 112,
   "metadata": {},
   "outputs": [
    {
     "data": {
      "image/png": "[encoded data removed]",
      "text/plain": [
       "<Figure size 432x288 with 1 Axes>"
      ]
     },
     "metadata": {
      "needs_background": "light"
     },
     "output_type": "display_data"
    }
   ],
   "source": [
    "## 난수를 추출\n",
    "## [0,1) (0이상 1미만)구간에서 균등분포 확률밀도상에서 난수 추출\n",
    "\n",
    "# arr = np.random.rand(10000,2,3) #(1000,2,3)이면 3차원으로 1000개면 2개행 3개열\n",
    "arr = np.random.rand(10000) # np.random.rand() \n",
    "# print(arr)\n",
    "plt.hist(arr,bins=100)\n",
    "plt.show()"
   ]
  },
  {
   "cell_type": "code",
   "execution_count": 114,
   "metadata": {},
   "outputs": [
    {
     "data": {
      "image/png": "[encoded data removed]",
      "text/plain": [
       "<Figure size 432x288 with 1 Axes>"
      ]
     },
     "metadata": {
      "needs_background": "light"
     },
     "output_type": "display_data"
    }
   ],
   "source": [
    "## 난수를 추출\n",
    "## 표준정규분포 확률밀도상에서 난수 추출\n",
    "# arr = np.random.randn(1000,2,3) # 인자의 갯수로 차원을 표현 1000개의 면, 2개의 행, 3개의 열\n",
    "arr = np.random.randn(1000)\n",
    "plt.hist(arr,bins=100)\n",
    "plt.show()"
   ]
  },
  {
   "cell_type": "code",
   "execution_count": 122,
   "metadata": {},
   "outputs": [
    {
     "data": {
      "image/png": "[encoded data removed]",
      "text/plain": [
       "<Figure size 432x288 with 1 Axes>"
      ]
     },
     "metadata": {
      "needs_background": "light"
     },
     "output_type": "display_data"
    }
   ],
   "source": [
    "## 난수를 추출 (정수를 추출)\n",
    "## 주어진 범위에서 균등분포 확률밀도상에서 난수 추출\n",
    "arr = np.random.randint(-100,100,(10000,)) # -100부터 100까지 (10000,)shape으로\n",
    "plt.hist(arr,bins=100)\n",
    "plt.show()"
   ]
  },
  {
   "cell_type": "code",
   "execution_count": 124,
   "metadata": {},
   "outputs": [
    {
     "data": {
      "image/png": "[encoded data removed]",
      "text/plain": [
       "<Figure size 432x288 with 1 Axes>"
      ]
     },
     "metadata": {
      "needs_background": "light"
     },
     "output_type": "display_data"
    }
   ],
   "source": [
    "## 난수를 추출 (실수를 추출)\n",
    "## [0,1)에서 균등분포 확률밀도상에서 난수 추출\n",
    "arr = np.random.random((10000,)) # shape을 줘야 해요!\n",
    "plt.hist(arr,bins=100)\n",
    "plt.show()"
   ]
  },
  {
   "cell_type": "code",
   "execution_count": 154,
   "metadata": {},
   "outputs": [
    {
     "name": "stdout",
     "output_type": "stream",
     "text": [
      "[7 5 1 8 7]\n"
     ]
    }
   ],
   "source": [
    "## 난수는 랜덤값이기 때문에 실행할 때만다 추출되는 난수가 달라져야 해요!\n",
    "\n",
    "## 난수값도 사실은 알고리즘에 의해서 계산되는 값이에요!\n",
    "## 알고리즘의 초기값을 고정시키면 항상 같은 난수를 업을 수 있어요 => 재현성\n",
    "\n",
    "np.random.seed(4) #초기값을 설정 -> 동일한 seed값에는 동일한 난수가 나오게 됨\n",
    "arr = np.random.randint(0,10,(5,)) #0부터 10사이(0포함, 10은 미포함), 1차원 5개 정수를 균등분포 추출\n",
    "print(arr)\n"
   ]
  },
  {
   "cell_type": "code",
   "execution_count": 13,
   "metadata": {},
   "outputs": [
    {
     "name": "stdout",
     "output_type": "stream",
     "text": [
      "<class 'numpy.ndarray'>\n",
      "[1 2 3 4]\n",
      "1\n",
      "(4,)\n",
      "[[1 2 3]\n",
      " [4 5 6]]\n",
      "6\n",
      "2\n",
      "[[1. 2. 3.]\n",
      " [4. 5. 6.]]\n"
     ]
    }
   ],
   "source": [
    "## 11월 19일\n",
    "### NumPy (Numerical Python)\n",
    "### ndarray라고 불리는 자료구조를 사용해요!\n",
    "\n",
    "### array : 연속적으로 할당되고 같은 데이터타입의 데이터를 저장할 수 있는 자료구조 (인덱스를 사용할 수 있다) (배열)\n",
    "\n",
    "### 기본적으로 생성하는 방법\n",
    "import numpy as np\n",
    "\n",
    "arr = np.array([1,2,3,4])  #안에 인자로 list나 tuple을 넣어주면됨\n",
    "\n",
    "### python에서 built-in type \n",
    "### int, float, bool, str, list, tuple, dict, set\n",
    "### => 이 data type이라고 알고 있던 것들이 실제로는 class!!로 되어 있어요\n",
    "### => type()이라는 함수로 class를 알아내요!\n",
    "print(type(arr))\n",
    "print(arr) #리스트를 출력하는 것과 다르게 [1 2 3 4] ,로 구분되어서 표현되지 않는다\n",
    "print(arr.ndim) ## 차원의 수 : 1\n",
    "print(arr.shape) ##차원의 수와 각차원당 몇개의 요소가 들어가 있니 : (4,) ★★.shape\n",
    "\n",
    "## 2차원 이상의 ndarray를 만들려면 어떻게 해야 하나요?\n",
    "## \n",
    "myList = [[1,2,3],[4,5,6]] #list 중첩자료구조로 만들어 줄 수 있다\n",
    "arr = np.array(myList)\n",
    "print(arr)\n",
    "\n",
    "print(arr.size) # ndarray안에 있는 모든 요소의 수 : 6\n",
    "print(len(arr)) # 1차원의 요소 개수 : 2 (2차원의 경우 행의 갯수)\n",
    "\n",
    "#data type 정해주기 \n",
    "myList = [[1,2,3],[4,5,6]] \n",
    "arr = np.array(myList,dtype=np.float64)\n",
    "print(arr)\n",
    "\n",
    "### 다양한 생성방법\n",
    "### np.zeros(), np.ones(), np.full(), np.empty(), np.ones_like()\n",
    "### np.aranage(), np.linspace()\n",
    "### random기반의 함수들 -> 4가지\n",
    "\n"
   ]
  },
  {
   "cell_type": "code",
   "execution_count": 45,
   "metadata": {},
   "outputs": [
    {
     "name": "stdout",
     "output_type": "stream",
     "text": [
      "[0 1 2 3 4 5 6 7 8 9]\n",
      "[[0 1 2 3 4 5]\n",
      " [6 7 8 9 0 1]]\n",
      "[[0 1]\n",
      " [2 3]]\n",
      "None\n",
      "[[0 1 2]\n",
      " [3 4 5]]\n"
     ]
    }
   ],
   "source": [
    "## NumPy 활용에 대해서 알아보아요!\n",
    "## shape을 조절해서 내가 원하는 형태의 ndarray를 만들어 보아요! ★★ 배열.reshape(shape 넣어주기)\n",
    "\n",
    "import numpy as np\n",
    "\n",
    "arr = np.arange(0,12,1) #0포함 12미포함 1씩 증가 : 12개의 요소\n",
    "print(arr)\n",
    "\n",
    "## 2차원으로 변경 (4행 3열)\n",
    "## reshape을 이용하면 view가 만들어져요! (arr데이터가 하나고, arr1은 arr을 shape에 맞춘 창일뿐!!)\n",
    "## 따라서 원본인 arr의 데이터를 바꾸면, view인 arr1의 데이터도 바뀌게 됨\n",
    "arr1 = arr.reshape(4,3) #2차원 4행 3열\n",
    "print(arr1)\n",
    "\n",
    "arr[1] = 100\n",
    "print(arr)\n",
    "print(arr1)\n",
    "# view는 base 속성이 있어요! 이 view가 어떤 원본데이터를 땡기는지...\n",
    "print(arr1.base) # arr1의 base data를 불러올 수 있음\n",
    "print(arr1.base is arr) #True\n",
    "print(arr1.base == arr) \n",
    "#[ True  True  True  True  True  True  True  True  True  True  True  True] 이거는 칸끼리 같은지를 비교\n",
    "\n",
    "## shape을 변경해서 새로운 ndarray를 만들고 싶어요!\n",
    "arr = np.arange(0,12,1)\n",
    "print(arr)\n",
    "\n",
    "arr1 = arr.reshape(4,3).copy() #copy해서 새로운 ndarray를 생성\n",
    "\n",
    "# arr1 = arr.reshape(5,3) # 사이즈를 맞춰서 만들어줘야 한다 : error(형태가 맞지 않아요!!)\n",
    "arr1 = arr.reshape(2,-1)  # (2,-1) 하면 2행으로 하고 남은것들로 열을 만들어\n",
    "arr1 = arr.reshape(-1,3) # -1을 이용하면 계산하지 않아도 자동계산해줘요!\n",
    "print(arr1)\n",
    "\n",
    "arr = np.arange(0,100,1).reshape(5,-1).copy() \n",
    "print(arr)\n",
    "# 다차원배열을 1차원으로 만들 수 있어요! ★★np.ravel(배열)\n",
    "arr1 = np.ravel(arr)\n",
    "print(arr1)\n",
    "# 2차원을 3차원으로 바꿀 때 => ravel로 1차원만들고 다시 reshape로 3차원 만들기\n",
    "\n",
    "## resize()는 reshape()과 유사\n",
    "## reshape()은 형태가 맞지 않으면 변경시 error가 발생\n",
    "## 하지만 resize()는 형태가 맞지 않아도 변경이 가능\n",
    "\n",
    "arr = np.arange(0,10,1)\n",
    "print(arr)\n",
    "# resize()를 이용하는 1번째 방법 ★★np.resize(배열, shape) 하면 결과값을 return받게 됨 \n",
    "arr1 = np.resize(arr,(2,6)) # 변경된 ndarray를 return\n",
    "                            # resize는 10개요소도 (2,6)로 만들어짐\n",
    "                            # 모자라는 부분은 배열의 처음부터 다시 추가\n",
    "print(arr1)\n",
    "#[[0 1 2 3 4 5]\n",
    "# [6 7 8 9 0 1]]\n",
    "\n",
    "arr2 = np.resize(arr,(2,2)) #남는 요소는 버려요! \n",
    "print(arr2)\n",
    "#[[0 1]\n",
    "# [2 3]]\n",
    "\n",
    "# resize()를 이용하는 2번째 방법 ★★배열.resize(shape) 하면 원본이 바뀜->리턴되지 않음\n",
    "# ndarray를 직접 이용하는 방법\n",
    "arr = np.arange(0,10,1)\n",
    "result = arr.resize(2,3) #이렇게 하면 원본이 바뀌게 됨\n",
    "print(result) #None\n",
    "print(arr)"
   ]
  },
  {
   "cell_type": "code",
   "execution_count": 75,
   "metadata": {},
   "outputs": [
    {
     "name": "stdout",
     "output_type": "stream",
     "text": [
      "[[7 5 1]\n",
      " [8 7 8]]\n",
      "[[2 9 7 7 7]\n",
      " [9 8 4 2 6]]\n",
      "[[7 5 1 2 9 7 7 7]\n",
      " [8 7 8 9 8 4 2 6]]\n",
      "[[4 3 0]\n",
      " [7 5 5]\n",
      " [9 6 6]\n",
      " [8 2 5]\n",
      " [8 1 2]]\n"
     ]
    }
   ],
   "source": [
    "## numpy array를 가로방향으로 혹은 세로방향으로 결합 (모양이 맞아야지 붙을 수 있음)\n",
    "## 2행 3열짜리 ndarray를 생성\n",
    "\n",
    "## 정수로 생성, 랜덤하게 균등분포로 0~10사이에서 추출\n",
    "## 6개를 추출해서 2차원 ndarray로 생성\n",
    "\n",
    "np.random.seed(4) #seed값을 줘서 항상 같은 난수가 추출되도록!!\n",
    "arr1 = np.random.randint(0,10,(2,3)) #정수추출은 np.random.randint (균등분포) (0포함, 10미포함)\n",
    "print(arr1)\n",
    "\n",
    "## 가로방향으로 결합 \n",
    "## 행의 개수가 같아야함! 열의 개수는 크게 상관없어요!\n",
    "arr2 = np.random.randint(0,10,(2,5))\n",
    "print(arr2)\n",
    "result = np.hstack((arr1,arr2)) #수평으로 붙여. 배열을 tuple로 잡아줘야함 \n",
    "print(result)\n",
    "\n",
    "## 세로방향으로 결합\n",
    "## 열의 개수가 같아야함! 행의 개수는 크게 상관없어요!\n",
    "arr1 = np.random.randint(0,10,(2,3))\n",
    "arr2 = np.random.randint(0,10,(3,3))\n",
    "result = np.vstack((arr1,arr2)) #수직으로 붙여\n",
    "print(result)\n",
    "\n",
    "##################################################################################################\n",
    "# ndarray 생성, 특징\n",
    "# reshape(view개념 (메모리를 효율적으로 사용하기 위해서)), resize\n",
    "# 여러개의 ndarray를 결합할 수 있어요!\n",
    "# 이제 indexing과 slicing에 대한 얘기만 하면 되요!!\n"
   ]
  },
  {
   "cell_type": "code",
   "execution_count": 99,
   "metadata": {},
   "outputs": [
    {
     "name": "stdout",
     "output_type": "stream",
     "text": [
      "[[ 0  1  2  3]\n",
      " [ 4  5  6  7]\n",
      " [ 8  9 10 11]]\n",
      "6\n",
      "[[0]\n",
      " [4]\n",
      " [8]]\n",
      "[ 5  6  9 10]\n"
     ]
    }
   ],
   "source": [
    "## NumPy array의 indexing과 slicing\n",
    "\n",
    "arr = np.arange(10,20,1)\n",
    "print(arr)\n",
    "\n",
    "for i in arr:   #data만 추출해서 사용하는 for\n",
    "    print(\"data : {}\".format(i))\n",
    "    \n",
    "for idx,data in enumerate(arr): #arr의 열거형 => index와 data를 같이 추출 (tuple로 변수를 줘서 tuple로 받는다)\n",
    "    print(\"index : {}, data : {}\".format(idx,data))\n",
    "    \n",
    "arr = np.arange(0,5,1)\n",
    "print(arr)\n",
    "print(arr[2]) # indexing \n",
    "print(arr[1:3]) #slicing [1 2] (일정량의 영역을 추출 =>결과값은 ndarray로 나옴)\n",
    "print(arr[:3]) # [0 1 2]\n",
    "print(arr[2:]) # [2 3 4]\n",
    "print(arr[1::2]) # [1 3]   :2 <- 2칸씩 뛰어요~\n",
    "print(arr[-1:]) # 맨 마지막 요소만 slicing (-1번째에서 끝까지)\n",
    "\n",
    "\n",
    "arr = np.arange(0,12,1).reshape(3,4).copy()\n",
    "print(arr)\n",
    "print(arr[1,2]) # indexing : 2차원 이상일 때 (2행 3열에 있는거 뽑아오기)\n",
    "print(arr[:,0:1]) # 첫번재 열만 가져오는 slicing (행은 전체 : , 열은 첫번째 줄 0:1 => 둘다 slicing)\n",
    "\n",
    "\n",
    "#[ 5  6  9 10] 이렇게 뽑아오고 싶다면?\n",
    "print(arr[1:3,1:3].ravel())  #slicing으로 2차원 형태로 뽑고, ravel로 1차원으로 바꾸기\n",
    "\n",
    "\n",
    "\n",
    "\n",
    "\n",
    " "
   ]
  },
  {
   "cell_type": "code",
   "execution_count": 124,
   "metadata": {},
   "outputs": [
    {
     "name": "stdout",
     "output_type": "stream",
     "text": [
      "[[ 0  1  2  3]\n",
      " [ 4  5  6  7]\n",
      " [ 8  9 10 11]]\n",
      "10\n",
      "[6]\n",
      "[ 2 10]\n",
      "[[ 1  2  3]\n",
      " [ 9 10 11]]\n",
      "[[ 0  2]\n",
      " [ 4  6]\n",
      " [ 8 10]]\n",
      "[ 5 10]\n",
      "[[ 5  6]\n",
      " [ 9 10]]\n",
      "[[ 5  6]\n",
      " [ 9 10]]\n"
     ]
    }
   ],
   "source": [
    "## Boolean Indexing & Fancy Indexing\n",
    "## boolean indexing은 mask를 이용해서 배열의 각 요소의 \n",
    "## 선택여부를 True, False로 지정해서 True요소만 선택하는 방식\n",
    "\n",
    "## 정수형 난수를 추출해보아요!\n",
    "np.random.seed(1)\n",
    "arr = np.random.randint(0,10,(10,)) #1차원 10개를 0~9까지 균등분포로 정수 추출\n",
    "print(arr)\n",
    "\n",
    "## 여기에서 짝수만 추출할거에요!\n",
    "## 로직을 이용해서 할 수 있지만... 쫌 그래요!\n",
    "# result=list()\n",
    "# for i in arr:\n",
    "#     if i %2 ==0:\n",
    "#         result.append(i)\n",
    "# result = np.array(result)\n",
    "# print(result)\n",
    "\n",
    "## 1. 조건에 맞는 mask를 만들어요\n",
    "## arr = [5 8 9 5 0 0 1 7 6 9]\n",
    "## mask = [False  True False False  True  True False False  True False]\n",
    "print(arr % 2 == 0) # 요소 하나하나에 대해서 연산을 수행함\n",
    "## [False  True False False  True  True False False  True False] 이렇게 ndarray형태의 mask가 만들어짐\n",
    "print(arr[arr % 2 == 0]) #mask를 []안에다가 집어넣으면 됨 \n",
    "#[8 0 0 6]\n",
    "\n",
    "\n",
    "# Fancy Indexing \n",
    "# indexing을 할 때 배열을 이용해서 배열 요소를 찾는 방식\n",
    "\n",
    "arr = np.arange(0,12,1).reshape(3,4).copy()\n",
    "print(arr)\n",
    "\n",
    "print(arr[2,2]) #10 \n",
    "print(arr[1:2,2]) #[6] slicing 한거라서 ndarray로 나옴\n",
    "\n",
    "print(arr[[0,2],2]) #[2 10] #행 부분은 0번과 2번, 열 부분은 2번\n",
    "print(arr[[0,2],1:]) # 행 부분은 0번 2번, 열 부분은 1번부터 끝까지\n",
    "#[[ 1  2  3]\n",
    "# [ 9 10 11]]\n",
    "print(arr[:,[0,2]]) # 행 부분은 전부, 열부분은 0번 2번\n",
    "#[[ 0  2]\n",
    "# [ 4  6]\n",
    "# [ 8 10]]\n",
    "print(arr[[1,2],[1,2]]) # ??? 조심 행과 열 둘다 fancy indexing으로 잡으면 결과가 나오지 않음\n",
    "#[ 5 10]\n",
    "\n",
    "# 방법1\n",
    "print(arr[[1,2]][:,[1,2]])  # arr의 1,2번 행만 indexing 하고 \n",
    "                            # indexing해온 arr에 대해서 열은 전부 1,2번 행만 indexing\n",
    "# 방법2\n",
    "print(arr[np.ix_([1,2],[1,2])]) # 배열[np.ix_([행indexing],[열indexing])]\n"
   ]
  },
  {
   "cell_type": "code",
   "execution_count": 147,
   "metadata": {},
   "outputs": [
    {
     "name": "stdout",
     "output_type": "stream",
     "text": [
      "[[1 2 3]\n",
      " [4 5 6]]\n",
      "[[6 8 9]\n",
      " [5 5 8]]\n",
      "[[ 7 10 12]\n",
      " [ 9 10 14]]\n",
      "[[11 12 13]\n",
      " [14 15 16]]\n",
      "[[2 4 6]\n",
      " [5 7 9]]\n"
     ]
    }
   ],
   "source": [
    "## ndarray의 연산\n",
    "## R의 vector연산과 유사\n",
    "\n",
    "\n",
    "arr1 = np.arange(1,7,1).reshape(2,3).copy()\n",
    "arr2 = np.random.randint(1,10,(2,3))\n",
    "print(arr1)\n",
    "print(arr2)\n",
    "\n",
    "print(arr1 + arr2) # python의 list에서 +연산하면 리스트가 늘어나요\n",
    "                   # numpy ndarray에서 +연산은 vector 연산 (같은 위치끼리 더해줌)\n",
    "print(arr1 + 10)   # 원래는 size가 달라서 연산이 안되야 정상. \n",
    "                   # 이렇게 타입이 안맞는 경우 \n",
    "                   # scalar 값을 broadcasting 시켜요.(행으로 늘리고 열로 늘리고) \n",
    "                   # 10 => 2행 3열짜리 10으로 모두 채워진 ndarray로 size가 맞춰짐\n",
    "\n",
    "arr2 = np.array([1,2,3])\n",
    "print(arr1 + arr2) # 1차배열 [1,2,3] => [[1 2 3]\n",
    "                   #                    [1 2 3]]\n",
    "    \n",
    "# arr2 = np.array([1,2]) #이거는 형태가 완전 달라서 broadcasting이 안됨 -> 오류 뜸\n",
    "# print(arr1+arr2)\n",
    "\n"
   ]
  },
  {
   "cell_type": "code",
   "execution_count": 178,
   "metadata": {},
   "outputs": [
    {
     "name": "stdout",
     "output_type": "stream",
     "text": [
      "[[6 9 6 1 1]\n",
      " [2 8 7 3 5]]\n"
     ]
    },
    {
     "data": {
      "text/plain": [
       "5"
      ]
     },
     "execution_count": 178,
     "metadata": {},
     "output_type": "execute_result"
    }
   ],
   "source": [
    "## 기본적인 집계(통계)함수\n",
    "\n",
    "arr = np.arange(0,12,1).reshape(3,4).copy()\n",
    "print(arr)\n",
    "print(np.sum(arr)) #ndarray의 합  \n",
    "print(arr.sum()) #ndarray의 합 \n",
    "print(np.cumsum(arr)) # 1차원으로 변환 [ 0  1  3  6 10 15 21 28 36 45 55 66] 계속 누적시켜서 합을 구함\n",
    "print(np.mean(arr)) # 평균 구해주는 np.mean(배열)\n",
    "print(np.max(arr)) # 최대값 구해주는 np.max(배열)\n",
    "print(np.min(arr)) # 최솟값 구해주는 np.min(배열)\n",
    "print(np.std(arr)) # 표준편차 구해주는 np.std(배열)\n",
    "print(np.sqrt(arr)) # arr안의 각각의 요소에 대한 제곱근을 구해주는 np.sqrt(배열)\n",
    "print(np.log10(arr)) # 자연로그, 상용로그 사용할 수 있어요\n",
    "\n",
    "## 축 개념을 이해해 보아요!\n",
    "## 위에 있는 집계함수를 이용할 때 axis개념을 사용해요!\n",
    "## 만약 axis를 명시하지 않으면 axis를 None으로 설정하고 \n",
    "## 대상범위를 전체 ndarray로 지정\n",
    "\n",
    "# 1차원 ndarray\n",
    "arr = np.arange(0,5,1)\n",
    "print(arr)\n",
    "print(arr.sum()) # axis를 명시하지 않은 경우\n",
    "print(arr.sum(axis=0)) # 1차원에서 axis=0이면 열방향 (열에 있는 것들을 싹다 더해라)\n",
    "                       # axis=1이면 행방향 (행에 있는 것들을 더하라는 거여서) 에러\n",
    "\n",
    "# 2차원 ndarray\n",
    "arr = np.arange(0,12,1).reshape(3,4).copy()\n",
    "print(arr)\n",
    "print(arr.sum(axis=0)) # 2차원에서 axis=0이면 행이 증가하는 방향 (세로)  #[12 15 18 21]\n",
    "print(arr.sum(axis=1)) # 2차원에서 axis=1이면 열이 증가하는 방향 (가로)  #[ 6 22 38]      \n",
    "\n",
    "# 3차원 ndarray\n",
    "# axis=0 이 면\n",
    "# axis=1 이 행\n",
    "# asix=2 이 열\n",
    "\n",
    "### 당연하게.. 일반 로직으로 프로그램 하는 것 보다는 \n",
    "### 집계함수를 이용해서 처리하는게 훨씬 효율적\n",
    "\n",
    "### 응용\n",
    "np.random.seed(1)\n",
    "arr = np.random.randint(1,10,(2,5))\n",
    "print(arr)\n",
    "# 요소 중 5 이상인 것의 개수는 몇개?\n",
    "(arr > 5).sum() #boolean mask를 만들어서 True값만 sum\n",
    "arr[arr>5].size\n",
    "\n"
   ]
  },
  {
   "cell_type": "code",
   "execution_count": 184,
   "metadata": {},
   "outputs": [
    {
     "name": "stdout",
     "output_type": "stream",
     "text": [
      "[[ 0  1  2  3]\n",
      " [ 4  5  6  7]\n",
      " [ 8  9 10 11]]\n",
      "[ 0  2  3  4  5  6  7  8  9 10 11]\n",
      "[[ 0  1  2  3]\n",
      " [ 8  9 10 11]]\n",
      "[[ 0  2  3]\n",
      " [ 4  6  7]\n",
      " [ 8 10 11]]\n"
     ]
    }
   ],
   "source": [
    "## delete() 함수는 axis을 기준으로 행과 열을 삭제\n",
    "## axis을 지정하지 않으면 1차배열로 변환한 후 해당 요소를 삭제\n",
    "## 원본은 유지하고 삭제된 복사본을 return\n",
    "\n",
    "arr = np.arange(0,12,1).reshape(3,4).copy()\n",
    "print(arr)\n",
    "\n",
    "# axis를 지정하지 않고 삭제 처리\n",
    "result = np.delete(arr,1) # 1차 배열로 변환한 수 해당 인덱스를 삭제 \n",
    "print(result)\n",
    "\n",
    "# axis를 지정\n",
    "result = np.delete(arr,1,axis=0) #행 방향으로 1번째를 지울꺼야 (index번호가 1번째인 행 지울거야)\n",
    "print(result)\n",
    "#[[ 0  1  2  3]\n",
    "# [ 8  9 10 11]]\n",
    "result = np.delete(arr,1,axis=1) #열 방향으로 1번째를 지울꺼야 (index번호가 1번째인 열 지울거야)\n",
    "print(result)"
   ]
  }
 ],
 "metadata": {
  "kernelspec": {
   "display_name": "[CPU_ENV]",
   "language": "python",
   "name": "cpu_env"
  },
  "language_info": {
   "codemirror_mode": {
    "name": "ipython",
    "version": 3
   },
   "file_extension": ".py",
   "mimetype": "text/x-python",
   "name": "python",
   "nbconvert_exporter": "python",
   "pygments_lexer": "ipython3",
   "version": "3.6.9"
  }
 },
 "nbformat": 4,
 "nbformat_minor": 2
}
